{
  "nbformat": 4,
  "nbformat_minor": 0,
  "metadata": {
    "colab": {
      "name": "Assignment2_sachin.ipynb",
      "provenance": [],
      "collapsed_sections": []
    },
    "kernelspec": {
      "name": "python3",
      "display_name": "Python 3"
    },
    "language_info": {
      "name": "python"
    }
  },
  "cells": [
    {
      "cell_type": "markdown",
      "metadata": {
        "id": "6uk9seDRa6HH"
      },
      "source": [
        "# Data Exploration and Visualization with insightful commentary to determine potentially useful variables"
      ]
    },
    {
      "cell_type": "code",
      "metadata": {
        "id": "_WFK_jHFUFzl"
      },
      "source": [
        "#Import the required libraries\n",
        "import numpy as np\n",
        "import pandas as pd\n",
        "import sklearn\n",
        "import matplotlib.pyplot as plt\n",
        "import seaborn as sns"
      ],
      "execution_count": null,
      "outputs": []
    },
    {
      "cell_type": "markdown",
      "metadata": {
        "id": "OT0c19pV09pR"
      },
      "source": [
        "Performing same data cleaning and feature transformation on test set which is being done on train set"
      ]
    },
    {
      "cell_type": "code",
      "metadata": {
        "id": "eOBqy4tgD8Kq"
      },
      "source": [
        ""
      ],
      "execution_count": null,
      "outputs": []
    },
    {
      "cell_type": "code",
      "metadata": {
        "colab": {
          "base_uri": "https://localhost:8080/",
          "height": 779
        },
        "id": "o8wWsyx4Uz3t",
        "outputId": "bc8f04ef-0d82-4373-96cd-6136dca10283"
      },
      "source": [
        "#Read the training data and testcsv file using pandas read_csv command\n",
        "pump_data = pd.read_csv('Train.csv')\n",
        "test_pump_data = pd.read_csv('test.csv')\n",
        " \n",
        "#Display first few entries of the dataset\n",
        "display(pump_data)"
      ],
      "execution_count": null,
      "outputs": [
        {
          "output_type": "display_data",
          "data": {
            "text/html": [
              "<div>\n",
              "<style scoped>\n",
              "    .dataframe tbody tr th:only-of-type {\n",
              "        vertical-align: middle;\n",
              "    }\n",
              "\n",
              "    .dataframe tbody tr th {\n",
              "        vertical-align: top;\n",
              "    }\n",
              "\n",
              "    .dataframe thead th {\n",
              "        text-align: right;\n",
              "    }\n",
              "</style>\n",
              "<table border=\"1\" class=\"dataframe\">\n",
              "  <thead>\n",
              "    <tr style=\"text-align: right;\">\n",
              "      <th></th>\n",
              "      <th>id</th>\n",
              "      <th>amount_tsh</th>\n",
              "      <th>date_recorded</th>\n",
              "      <th>funder</th>\n",
              "      <th>gps_height</th>\n",
              "      <th>installer</th>\n",
              "      <th>longitude</th>\n",
              "      <th>latitude</th>\n",
              "      <th>wpt_name</th>\n",
              "      <th>num_private</th>\n",
              "      <th>basin</th>\n",
              "      <th>subvillage</th>\n",
              "      <th>region</th>\n",
              "      <th>region_code</th>\n",
              "      <th>district_code</th>\n",
              "      <th>lga</th>\n",
              "      <th>ward</th>\n",
              "      <th>population</th>\n",
              "      <th>public_meeting</th>\n",
              "      <th>recorded_by</th>\n",
              "      <th>scheme_management</th>\n",
              "      <th>scheme_name</th>\n",
              "      <th>permit</th>\n",
              "      <th>construction_year</th>\n",
              "      <th>extraction_type</th>\n",
              "      <th>extraction_type_group</th>\n",
              "      <th>extraction_type_class</th>\n",
              "      <th>management</th>\n",
              "      <th>management_group</th>\n",
              "      <th>payment</th>\n",
              "      <th>payment_type</th>\n",
              "      <th>water_quality</th>\n",
              "      <th>quality_group</th>\n",
              "      <th>quantity</th>\n",
              "      <th>quantity_group</th>\n",
              "      <th>source</th>\n",
              "      <th>source_type</th>\n",
              "      <th>source_class</th>\n",
              "      <th>waterpoint_type</th>\n",
              "      <th>waterpoint_type_group</th>\n",
              "      <th>status_group</th>\n",
              "    </tr>\n",
              "  </thead>\n",
              "  <tbody>\n",
              "    <tr>\n",
              "      <th>0</th>\n",
              "      <td>7411</td>\n",
              "      <td>7.0</td>\n",
              "      <td>2013-03-20</td>\n",
              "      <td>Germany Republi</td>\n",
              "      <td>1203</td>\n",
              "      <td>CES</td>\n",
              "      <td>37.228664</td>\n",
              "      <td>-3.256505</td>\n",
              "      <td>Kwa Abdalla</td>\n",
              "      <td>0</td>\n",
              "      <td>Pangani</td>\n",
              "      <td>Mafurini</td>\n",
              "      <td>Kilimanjaro</td>\n",
              "      <td>3</td>\n",
              "      <td>5</td>\n",
              "      <td>Hai</td>\n",
              "      <td>Machame Kaskazini</td>\n",
              "      <td>90</td>\n",
              "      <td>True</td>\n",
              "      <td>GeoData Consultants Ltd</td>\n",
              "      <td>Water Board</td>\n",
              "      <td>Machame water supply</td>\n",
              "      <td>True</td>\n",
              "      <td>2008</td>\n",
              "      <td>gravity</td>\n",
              "      <td>gravity</td>\n",
              "      <td>gravity</td>\n",
              "      <td>water board</td>\n",
              "      <td>user-group</td>\n",
              "      <td>pay per bucket</td>\n",
              "      <td>per bucket</td>\n",
              "      <td>soft</td>\n",
              "      <td>good</td>\n",
              "      <td>enough</td>\n",
              "      <td>enough</td>\n",
              "      <td>spring</td>\n",
              "      <td>spring</td>\n",
              "      <td>groundwater</td>\n",
              "      <td>communal standpipe</td>\n",
              "      <td>communal standpipe</td>\n",
              "      <td>functional</td>\n",
              "    </tr>\n",
              "    <tr>\n",
              "      <th>1</th>\n",
              "      <td>18014</td>\n",
              "      <td>0.0</td>\n",
              "      <td>2011-02-21</td>\n",
              "      <td>Cdtf</td>\n",
              "      <td>1409</td>\n",
              "      <td>CDTF</td>\n",
              "      <td>34.615481</td>\n",
              "      <td>-9.972601</td>\n",
              "      <td>none</td>\n",
              "      <td>0</td>\n",
              "      <td>Lake Nyasa</td>\n",
              "      <td>Ituni</td>\n",
              "      <td>Iringa</td>\n",
              "      <td>11</td>\n",
              "      <td>5</td>\n",
              "      <td>Ludewa</td>\n",
              "      <td>Luana</td>\n",
              "      <td>70</td>\n",
              "      <td>False</td>\n",
              "      <td>GeoData Consultants Ltd</td>\n",
              "      <td>Private operator</td>\n",
              "      <td>Mgowel</td>\n",
              "      <td>False</td>\n",
              "      <td>1984</td>\n",
              "      <td>gravity</td>\n",
              "      <td>gravity</td>\n",
              "      <td>gravity</td>\n",
              "      <td>private operator</td>\n",
              "      <td>commercial</td>\n",
              "      <td>never pay</td>\n",
              "      <td>never pay</td>\n",
              "      <td>soft</td>\n",
              "      <td>good</td>\n",
              "      <td>enough</td>\n",
              "      <td>enough</td>\n",
              "      <td>spring</td>\n",
              "      <td>spring</td>\n",
              "      <td>groundwater</td>\n",
              "      <td>communal standpipe</td>\n",
              "      <td>communal standpipe</td>\n",
              "      <td>functional</td>\n",
              "    </tr>\n",
              "    <tr>\n",
              "      <th>2</th>\n",
              "      <td>26103</td>\n",
              "      <td>0.0</td>\n",
              "      <td>2013-01-04</td>\n",
              "      <td>Government Of Tanzania</td>\n",
              "      <td>1572</td>\n",
              "      <td>DWE</td>\n",
              "      <td>36.658778</td>\n",
              "      <td>-3.321529</td>\n",
              "      <td>Kwa Loishiye</td>\n",
              "      <td>0</td>\n",
              "      <td>Pangani</td>\n",
              "      <td>Melebuki</td>\n",
              "      <td>Arusha</td>\n",
              "      <td>2</td>\n",
              "      <td>2</td>\n",
              "      <td>Arusha Rural</td>\n",
              "      <td>Kimnyaki</td>\n",
              "      <td>150</td>\n",
              "      <td>True</td>\n",
              "      <td>GeoData Consultants Ltd</td>\n",
              "      <td>VWC</td>\n",
              "      <td>Saitero olosaita pipe line</td>\n",
              "      <td>True</td>\n",
              "      <td>2002</td>\n",
              "      <td>gravity</td>\n",
              "      <td>gravity</td>\n",
              "      <td>gravity</td>\n",
              "      <td>vwc</td>\n",
              "      <td>user-group</td>\n",
              "      <td>never pay</td>\n",
              "      <td>never pay</td>\n",
              "      <td>soft</td>\n",
              "      <td>good</td>\n",
              "      <td>insufficient</td>\n",
              "      <td>insufficient</td>\n",
              "      <td>spring</td>\n",
              "      <td>spring</td>\n",
              "      <td>groundwater</td>\n",
              "      <td>communal standpipe</td>\n",
              "      <td>communal standpipe</td>\n",
              "      <td>non functional</td>\n",
              "    </tr>\n",
              "    <tr>\n",
              "      <th>3</th>\n",
              "      <td>31140</td>\n",
              "      <td>0.0</td>\n",
              "      <td>2011-04-03</td>\n",
              "      <td>District Council</td>\n",
              "      <td>0</td>\n",
              "      <td>District Council</td>\n",
              "      <td>33.628025</td>\n",
              "      <td>-8.860795</td>\n",
              "      <td>Mwanzechele</td>\n",
              "      <td>0</td>\n",
              "      <td>Rufiji</td>\n",
              "      <td>Darajani</td>\n",
              "      <td>Mbeya</td>\n",
              "      <td>12</td>\n",
              "      <td>2</td>\n",
              "      <td>Mbeya Rural</td>\n",
              "      <td>Inyala</td>\n",
              "      <td>0</td>\n",
              "      <td>True</td>\n",
              "      <td>GeoData Consultants Ltd</td>\n",
              "      <td>VWC</td>\n",
              "      <td>NaN</td>\n",
              "      <td>True</td>\n",
              "      <td>0</td>\n",
              "      <td>gravity</td>\n",
              "      <td>gravity</td>\n",
              "      <td>gravity</td>\n",
              "      <td>wug</td>\n",
              "      <td>user-group</td>\n",
              "      <td>pay annually</td>\n",
              "      <td>annually</td>\n",
              "      <td>soft</td>\n",
              "      <td>good</td>\n",
              "      <td>insufficient</td>\n",
              "      <td>insufficient</td>\n",
              "      <td>river</td>\n",
              "      <td>river/lake</td>\n",
              "      <td>surface</td>\n",
              "      <td>communal standpipe</td>\n",
              "      <td>communal standpipe</td>\n",
              "      <td>functional</td>\n",
              "    </tr>\n",
              "    <tr>\n",
              "      <th>4</th>\n",
              "      <td>12286</td>\n",
              "      <td>300.0</td>\n",
              "      <td>2013-03-08</td>\n",
              "      <td>District Council</td>\n",
              "      <td>1283</td>\n",
              "      <td>District Council</td>\n",
              "      <td>37.655509</td>\n",
              "      <td>-3.669777</td>\n",
              "      <td>Kwa Kidaya</td>\n",
              "      <td>0</td>\n",
              "      <td>Pangani</td>\n",
              "      <td>Mwira A</td>\n",
              "      <td>Kilimanjaro</td>\n",
              "      <td>3</td>\n",
              "      <td>2</td>\n",
              "      <td>Mwanga</td>\n",
              "      <td>Shinghatini</td>\n",
              "      <td>34</td>\n",
              "      <td>True</td>\n",
              "      <td>GeoData Consultants Ltd</td>\n",
              "      <td>VWC</td>\n",
              "      <td>Churu water supply</td>\n",
              "      <td>False</td>\n",
              "      <td>2007</td>\n",
              "      <td>gravity</td>\n",
              "      <td>gravity</td>\n",
              "      <td>gravity</td>\n",
              "      <td>vwc</td>\n",
              "      <td>user-group</td>\n",
              "      <td>pay monthly</td>\n",
              "      <td>monthly</td>\n",
              "      <td>soft</td>\n",
              "      <td>good</td>\n",
              "      <td>insufficient</td>\n",
              "      <td>insufficient</td>\n",
              "      <td>spring</td>\n",
              "      <td>spring</td>\n",
              "      <td>groundwater</td>\n",
              "      <td>communal standpipe</td>\n",
              "      <td>communal standpipe</td>\n",
              "      <td>functional</td>\n",
              "    </tr>\n",
              "    <tr>\n",
              "      <th>...</th>\n",
              "      <td>...</td>\n",
              "      <td>...</td>\n",
              "      <td>...</td>\n",
              "      <td>...</td>\n",
              "      <td>...</td>\n",
              "      <td>...</td>\n",
              "      <td>...</td>\n",
              "      <td>...</td>\n",
              "      <td>...</td>\n",
              "      <td>...</td>\n",
              "      <td>...</td>\n",
              "      <td>...</td>\n",
              "      <td>...</td>\n",
              "      <td>...</td>\n",
              "      <td>...</td>\n",
              "      <td>...</td>\n",
              "      <td>...</td>\n",
              "      <td>...</td>\n",
              "      <td>...</td>\n",
              "      <td>...</td>\n",
              "      <td>...</td>\n",
              "      <td>...</td>\n",
              "      <td>...</td>\n",
              "      <td>...</td>\n",
              "      <td>...</td>\n",
              "      <td>...</td>\n",
              "      <td>...</td>\n",
              "      <td>...</td>\n",
              "      <td>...</td>\n",
              "      <td>...</td>\n",
              "      <td>...</td>\n",
              "      <td>...</td>\n",
              "      <td>...</td>\n",
              "      <td>...</td>\n",
              "      <td>...</td>\n",
              "      <td>...</td>\n",
              "      <td>...</td>\n",
              "      <td>...</td>\n",
              "      <td>...</td>\n",
              "      <td>...</td>\n",
              "      <td>...</td>\n",
              "    </tr>\n",
              "    <tr>\n",
              "      <th>44545</th>\n",
              "      <td>43878</td>\n",
              "      <td>0.0</td>\n",
              "      <td>2013-01-23</td>\n",
              "      <td>World Vision</td>\n",
              "      <td>0</td>\n",
              "      <td>TAWASA</td>\n",
              "      <td>32.383715</td>\n",
              "      <td>-3.457624</td>\n",
              "      <td>Imalabuluhi</td>\n",
              "      <td>0</td>\n",
              "      <td>Lake Tanganyika</td>\n",
              "      <td>Bukenge</td>\n",
              "      <td>Shinyanga</td>\n",
              "      <td>17</td>\n",
              "      <td>3</td>\n",
              "      <td>Kahama</td>\n",
              "      <td>Segese</td>\n",
              "      <td>0</td>\n",
              "      <td>True</td>\n",
              "      <td>GeoData Consultants Ltd</td>\n",
              "      <td>NaN</td>\n",
              "      <td>NaN</td>\n",
              "      <td>True</td>\n",
              "      <td>0</td>\n",
              "      <td>nira/tanira</td>\n",
              "      <td>nira/tanira</td>\n",
              "      <td>handpump</td>\n",
              "      <td>wug</td>\n",
              "      <td>user-group</td>\n",
              "      <td>unknown</td>\n",
              "      <td>unknown</td>\n",
              "      <td>milky</td>\n",
              "      <td>milky</td>\n",
              "      <td>enough</td>\n",
              "      <td>enough</td>\n",
              "      <td>shallow well</td>\n",
              "      <td>shallow well</td>\n",
              "      <td>groundwater</td>\n",
              "      <td>hand pump</td>\n",
              "      <td>hand pump</td>\n",
              "      <td>functional</td>\n",
              "    </tr>\n",
              "    <tr>\n",
              "      <th>44546</th>\n",
              "      <td>50718</td>\n",
              "      <td>0.0</td>\n",
              "      <td>2011-07-25</td>\n",
              "      <td>Ded</td>\n",
              "      <td>0</td>\n",
              "      <td>DED</td>\n",
              "      <td>31.615509</td>\n",
              "      <td>-2.738682</td>\n",
              "      <td>Ilyamchele Center</td>\n",
              "      <td>0</td>\n",
              "      <td>Lake Victoria</td>\n",
              "      <td>Ilyamchele Center</td>\n",
              "      <td>Kagera</td>\n",
              "      <td>18</td>\n",
              "      <td>8</td>\n",
              "      <td>Chato</td>\n",
              "      <td>Katende</td>\n",
              "      <td>0</td>\n",
              "      <td>True</td>\n",
              "      <td>GeoData Consultants Ltd</td>\n",
              "      <td>WUA</td>\n",
              "      <td>NaN</td>\n",
              "      <td>True</td>\n",
              "      <td>0</td>\n",
              "      <td>afridev</td>\n",
              "      <td>afridev</td>\n",
              "      <td>handpump</td>\n",
              "      <td>wua</td>\n",
              "      <td>user-group</td>\n",
              "      <td>pay monthly</td>\n",
              "      <td>monthly</td>\n",
              "      <td>soft</td>\n",
              "      <td>good</td>\n",
              "      <td>enough</td>\n",
              "      <td>enough</td>\n",
              "      <td>hand dtw</td>\n",
              "      <td>borehole</td>\n",
              "      <td>groundwater</td>\n",
              "      <td>hand pump</td>\n",
              "      <td>hand pump</td>\n",
              "      <td>non functional</td>\n",
              "    </tr>\n",
              "    <tr>\n",
              "      <th>44547</th>\n",
              "      <td>67177</td>\n",
              "      <td>0.0</td>\n",
              "      <td>2013-02-23</td>\n",
              "      <td>Government Of Tanzania</td>\n",
              "      <td>969</td>\n",
              "      <td>Government</td>\n",
              "      <td>35.134412</td>\n",
              "      <td>-10.676062</td>\n",
              "      <td>Kwa Mzee Maondo</td>\n",
              "      <td>0</td>\n",
              "      <td>Ruvuma / Southern Coast</td>\n",
              "      <td>Masango</td>\n",
              "      <td>Ruvuma</td>\n",
              "      <td>10</td>\n",
              "      <td>3</td>\n",
              "      <td>Mbinga</td>\n",
              "      <td>Kigonsera</td>\n",
              "      <td>60</td>\n",
              "      <td>NaN</td>\n",
              "      <td>GeoData Consultants Ltd</td>\n",
              "      <td>VWC</td>\n",
              "      <td>Government</td>\n",
              "      <td>NaN</td>\n",
              "      <td>1977</td>\n",
              "      <td>gravity</td>\n",
              "      <td>gravity</td>\n",
              "      <td>gravity</td>\n",
              "      <td>vwc</td>\n",
              "      <td>user-group</td>\n",
              "      <td>unknown</td>\n",
              "      <td>unknown</td>\n",
              "      <td>soft</td>\n",
              "      <td>good</td>\n",
              "      <td>seasonal</td>\n",
              "      <td>seasonal</td>\n",
              "      <td>spring</td>\n",
              "      <td>spring</td>\n",
              "      <td>groundwater</td>\n",
              "      <td>communal standpipe</td>\n",
              "      <td>communal standpipe</td>\n",
              "      <td>functional</td>\n",
              "    </tr>\n",
              "    <tr>\n",
              "      <th>44548</th>\n",
              "      <td>2744</td>\n",
              "      <td>200.0</td>\n",
              "      <td>2013-03-26</td>\n",
              "      <td>Adra</td>\n",
              "      <td>1269</td>\n",
              "      <td>ADRA/Government</td>\n",
              "      <td>37.886287</td>\n",
              "      <td>-4.390882</td>\n",
              "      <td>Miembeni</td>\n",
              "      <td>0</td>\n",
              "      <td>Pangani</td>\n",
              "      <td>Mng'Ende</td>\n",
              "      <td>Kilimanjaro</td>\n",
              "      <td>3</td>\n",
              "      <td>3</td>\n",
              "      <td>Same</td>\n",
              "      <td>Suji</td>\n",
              "      <td>80</td>\n",
              "      <td>True</td>\n",
              "      <td>GeoData Consultants Ltd</td>\n",
              "      <td>Water authority</td>\n",
              "      <td>Kiumba water supply</td>\n",
              "      <td>True</td>\n",
              "      <td>2011</td>\n",
              "      <td>gravity</td>\n",
              "      <td>gravity</td>\n",
              "      <td>gravity</td>\n",
              "      <td>vwc</td>\n",
              "      <td>user-group</td>\n",
              "      <td>pay monthly</td>\n",
              "      <td>monthly</td>\n",
              "      <td>soft</td>\n",
              "      <td>good</td>\n",
              "      <td>insufficient</td>\n",
              "      <td>insufficient</td>\n",
              "      <td>spring</td>\n",
              "      <td>spring</td>\n",
              "      <td>groundwater</td>\n",
              "      <td>communal standpipe</td>\n",
              "      <td>communal standpipe</td>\n",
              "      <td>functional</td>\n",
              "    </tr>\n",
              "    <tr>\n",
              "      <th>44549</th>\n",
              "      <td>10262</td>\n",
              "      <td>0.0</td>\n",
              "      <td>2013-01-26</td>\n",
              "      <td>World Vision</td>\n",
              "      <td>0</td>\n",
              "      <td>Consulting Engineer</td>\n",
              "      <td>32.976560</td>\n",
              "      <td>-4.262149</td>\n",
              "      <td>Itunda A Mkwajuni</td>\n",
              "      <td>0</td>\n",
              "      <td>Lake Tanganyika</td>\n",
              "      <td>Itunda A</td>\n",
              "      <td>Tabora</td>\n",
              "      <td>14</td>\n",
              "      <td>1</td>\n",
              "      <td>Nzega</td>\n",
              "      <td>Karitu</td>\n",
              "      <td>0</td>\n",
              "      <td>True</td>\n",
              "      <td>GeoData Consultants Ltd</td>\n",
              "      <td>VWC</td>\n",
              "      <td>NaN</td>\n",
              "      <td>False</td>\n",
              "      <td>0</td>\n",
              "      <td>nira/tanira</td>\n",
              "      <td>nira/tanira</td>\n",
              "      <td>handpump</td>\n",
              "      <td>vwc</td>\n",
              "      <td>user-group</td>\n",
              "      <td>pay when scheme fails</td>\n",
              "      <td>on failure</td>\n",
              "      <td>soft</td>\n",
              "      <td>good</td>\n",
              "      <td>enough</td>\n",
              "      <td>enough</td>\n",
              "      <td>shallow well</td>\n",
              "      <td>shallow well</td>\n",
              "      <td>groundwater</td>\n",
              "      <td>hand pump</td>\n",
              "      <td>hand pump</td>\n",
              "      <td>functional</td>\n",
              "    </tr>\n",
              "  </tbody>\n",
              "</table>\n",
              "<p>44550 rows × 41 columns</p>\n",
              "</div>"
            ],
            "text/plain": [
              "          id  amount_tsh  ... waterpoint_type_group    status_group\n",
              "0       7411         7.0  ...    communal standpipe      functional\n",
              "1      18014         0.0  ...    communal standpipe      functional\n",
              "2      26103         0.0  ...    communal standpipe  non functional\n",
              "3      31140         0.0  ...    communal standpipe      functional\n",
              "4      12286       300.0  ...    communal standpipe      functional\n",
              "...      ...         ...  ...                   ...             ...\n",
              "44545  43878         0.0  ...             hand pump      functional\n",
              "44546  50718         0.0  ...             hand pump  non functional\n",
              "44547  67177         0.0  ...    communal standpipe      functional\n",
              "44548   2744       200.0  ...    communal standpipe      functional\n",
              "44549  10262         0.0  ...             hand pump      functional\n",
              "\n",
              "[44550 rows x 41 columns]"
            ]
          },
          "metadata": {
            "tags": []
          }
        }
      ]
    },
    {
      "cell_type": "markdown",
      "metadata": {
        "id": "fAhhMK_QN5Qq"
      },
      "source": [
        "Observations:-\n",
        "- We have a mixture of categorical features and numerical features in the dataset\n",
        "- The output label is the status_group which tells whether the pump is functional or requires maintainence. There are three classes: - functional, functional need repairs and non-functional."
      ]
    },
    {
      "cell_type": "code",
      "metadata": {
        "colab": {
          "base_uri": "https://localhost:8080/",
          "height": 396
        },
        "id": "gmTzyGhoZu1z",
        "outputId": "b9b40b26-cf6a-42c5-949d-cdf8dea89ac9"
      },
      "source": [
        "pump_data.describe().T"
      ],
      "execution_count": null,
      "outputs": [
        {
          "output_type": "execute_result",
          "data": {
            "text/html": [
              "<div>\n",
              "<style scoped>\n",
              "    .dataframe tbody tr th:only-of-type {\n",
              "        vertical-align: middle;\n",
              "    }\n",
              "\n",
              "    .dataframe tbody tr th {\n",
              "        vertical-align: top;\n",
              "    }\n",
              "\n",
              "    .dataframe thead th {\n",
              "        text-align: right;\n",
              "    }\n",
              "</style>\n",
              "<table border=\"1\" class=\"dataframe\">\n",
              "  <thead>\n",
              "    <tr style=\"text-align: right;\">\n",
              "      <th></th>\n",
              "      <th>count</th>\n",
              "      <th>mean</th>\n",
              "      <th>std</th>\n",
              "      <th>min</th>\n",
              "      <th>25%</th>\n",
              "      <th>50%</th>\n",
              "      <th>75%</th>\n",
              "      <th>max</th>\n",
              "    </tr>\n",
              "  </thead>\n",
              "  <tbody>\n",
              "    <tr>\n",
              "      <th>id</th>\n",
              "      <td>44550.0</td>\n",
              "      <td>37192.623681</td>\n",
              "      <td>21399.827198</td>\n",
              "      <td>1.000000</td>\n",
              "      <td>18723.250000</td>\n",
              "      <td>37183.500000</td>\n",
              "      <td>55647.500000</td>\n",
              "      <td>7.424700e+04</td>\n",
              "    </tr>\n",
              "    <tr>\n",
              "      <th>amount_tsh</th>\n",
              "      <td>44550.0</td>\n",
              "      <td>307.623224</td>\n",
              "      <td>2402.742799</td>\n",
              "      <td>0.000000</td>\n",
              "      <td>0.000000</td>\n",
              "      <td>0.000000</td>\n",
              "      <td>20.000000</td>\n",
              "      <td>1.700000e+05</td>\n",
              "    </tr>\n",
              "    <tr>\n",
              "      <th>gps_height</th>\n",
              "      <td>44550.0</td>\n",
              "      <td>665.490774</td>\n",
              "      <td>693.653179</td>\n",
              "      <td>-90.000000</td>\n",
              "      <td>0.000000</td>\n",
              "      <td>363.000000</td>\n",
              "      <td>1318.000000</td>\n",
              "      <td>2.770000e+03</td>\n",
              "    </tr>\n",
              "    <tr>\n",
              "      <th>longitude</th>\n",
              "      <td>44550.0</td>\n",
              "      <td>34.084084</td>\n",
              "      <td>6.555924</td>\n",
              "      <td>0.000000</td>\n",
              "      <td>33.105585</td>\n",
              "      <td>34.905600</td>\n",
              "      <td>37.176859</td>\n",
              "      <td>4.034519e+01</td>\n",
              "    </tr>\n",
              "    <tr>\n",
              "      <th>latitude</th>\n",
              "      <td>44550.0</td>\n",
              "      <td>-5.721980</td>\n",
              "      <td>2.948828</td>\n",
              "      <td>-11.648378</td>\n",
              "      <td>-8.574241</td>\n",
              "      <td>-5.045611</td>\n",
              "      <td>-3.327795</td>\n",
              "      <td>-2.000000e-08</td>\n",
              "    </tr>\n",
              "    <tr>\n",
              "      <th>num_private</th>\n",
              "      <td>44550.0</td>\n",
              "      <td>0.521549</td>\n",
              "      <td>13.835868</td>\n",
              "      <td>0.000000</td>\n",
              "      <td>0.000000</td>\n",
              "      <td>0.000000</td>\n",
              "      <td>0.000000</td>\n",
              "      <td>1.776000e+03</td>\n",
              "    </tr>\n",
              "    <tr>\n",
              "      <th>region_code</th>\n",
              "      <td>44550.0</td>\n",
              "      <td>15.338563</td>\n",
              "      <td>17.672144</td>\n",
              "      <td>1.000000</td>\n",
              "      <td>5.000000</td>\n",
              "      <td>12.000000</td>\n",
              "      <td>17.000000</td>\n",
              "      <td>9.900000e+01</td>\n",
              "    </tr>\n",
              "    <tr>\n",
              "      <th>district_code</th>\n",
              "      <td>44550.0</td>\n",
              "      <td>5.678967</td>\n",
              "      <td>9.724205</td>\n",
              "      <td>0.000000</td>\n",
              "      <td>2.000000</td>\n",
              "      <td>3.000000</td>\n",
              "      <td>5.000000</td>\n",
              "      <td>8.000000e+01</td>\n",
              "    </tr>\n",
              "    <tr>\n",
              "      <th>population</th>\n",
              "      <td>44550.0</td>\n",
              "      <td>179.112750</td>\n",
              "      <td>478.995645</td>\n",
              "      <td>0.000000</td>\n",
              "      <td>0.000000</td>\n",
              "      <td>25.000000</td>\n",
              "      <td>210.000000</td>\n",
              "      <td>3.050000e+04</td>\n",
              "    </tr>\n",
              "    <tr>\n",
              "      <th>construction_year</th>\n",
              "      <td>44550.0</td>\n",
              "      <td>1295.782155</td>\n",
              "      <td>953.183961</td>\n",
              "      <td>0.000000</td>\n",
              "      <td>0.000000</td>\n",
              "      <td>1985.000000</td>\n",
              "      <td>2004.000000</td>\n",
              "      <td>2.013000e+03</td>\n",
              "    </tr>\n",
              "  </tbody>\n",
              "</table>\n",
              "</div>"
            ],
            "text/plain": [
              "                     count          mean  ...           75%           max\n",
              "id                 44550.0  37192.623681  ...  55647.500000  7.424700e+04\n",
              "amount_tsh         44550.0    307.623224  ...     20.000000  1.700000e+05\n",
              "gps_height         44550.0    665.490774  ...   1318.000000  2.770000e+03\n",
              "longitude          44550.0     34.084084  ...     37.176859  4.034519e+01\n",
              "latitude           44550.0     -5.721980  ...     -3.327795 -2.000000e-08\n",
              "num_private        44550.0      0.521549  ...      0.000000  1.776000e+03\n",
              "region_code        44550.0     15.338563  ...     17.000000  9.900000e+01\n",
              "district_code      44550.0      5.678967  ...      5.000000  8.000000e+01\n",
              "population         44550.0    179.112750  ...    210.000000  3.050000e+04\n",
              "construction_year  44550.0   1295.782155  ...   2004.000000  2.013000e+03\n",
              "\n",
              "[10 rows x 8 columns]"
            ]
          },
          "metadata": {
            "tags": []
          },
          "execution_count": 49
        }
      ]
    },
    {
      "cell_type": "code",
      "metadata": {
        "colab": {
          "base_uri": "https://localhost:8080/"
        },
        "id": "iFmnvQyIQdjZ",
        "outputId": "a9c052e0-b69b-441e-bb7c-aaccd79ab8f8"
      },
      "source": [
        "#Checking the data types of the features\n",
        "print(pump_data.dtypes)\n",
        "\n"
      ],
      "execution_count": null,
      "outputs": [
        {
          "output_type": "stream",
          "text": [
            "id                         int64\n",
            "amount_tsh               float64\n",
            "date_recorded             object\n",
            "funder                    object\n",
            "gps_height                 int64\n",
            "installer                 object\n",
            "longitude                float64\n",
            "latitude                 float64\n",
            "wpt_name                  object\n",
            "num_private                int64\n",
            "basin                     object\n",
            "subvillage                object\n",
            "region                    object\n",
            "region_code                int64\n",
            "district_code              int64\n",
            "lga                       object\n",
            "ward                      object\n",
            "population                 int64\n",
            "public_meeting            object\n",
            "recorded_by               object\n",
            "scheme_management         object\n",
            "scheme_name               object\n",
            "permit                    object\n",
            "construction_year          int64\n",
            "extraction_type           object\n",
            "extraction_type_group     object\n",
            "extraction_type_class     object\n",
            "management                object\n",
            "management_group          object\n",
            "payment                   object\n",
            "payment_type              object\n",
            "water_quality             object\n",
            "quality_group             object\n",
            "quantity                  object\n",
            "quantity_group            object\n",
            "source                    object\n",
            "source_type               object\n",
            "source_class              object\n",
            "waterpoint_type           object\n",
            "waterpoint_type_group     object\n",
            "status_group              object\n",
            "dtype: object\n"
          ],
          "name": "stdout"
        }
      ]
    },
    {
      "cell_type": "markdown",
      "metadata": {
        "id": "24Zw1Yj7Q67g"
      },
      "source": [
        "Observations:-\n",
        "\n",
        "* So we can see that all data types are not numerical and we  need to do feature transformation on categorical features to make them useful.\n",
        "\n",
        "*   Total number of numerical featues are: 'id', 'amount_tsh', 'gps_height', 'longitude', 'latitude', 'num_private', 'region_code', 'district_code', 'population', 'construction year'. 10\n",
        "\n",
        "*   Total number of categorical features are: Rest 30 are categorical \n",
        "\n",
        "\n",
        "\n",
        "\n",
        "\n"
      ]
    },
    {
      "cell_type": "code",
      "metadata": {
        "colab": {
          "base_uri": "https://localhost:8080/",
          "height": 280
        },
        "id": "5jYvZmJcq2CX",
        "outputId": "304d4161-64ad-4b82-dcf7-843431e5b0b3"
      },
      "source": [
        "plt.hist(pump_data['status_group'])\n",
        "plt.xlabel('Labels')\n",
        "plt.show()"
      ],
      "execution_count": null,
      "outputs": [
        {
          "output_type": "display_data",
          "data": {
            "image/png": "[encoded data removed]",
            "text/plain": [
              "<Figure size 432x288 with 1 Axes>"
            ]
          },
          "metadata": {
            "tags": [],
            "needs_background": "light"
          }
        }
      ]
    },
    {
      "cell_type": "markdown",
      "metadata": {
        "id": "yPbGeU5-rMDz"
      },
      "source": [
        "Observations on Labels:-\n",
        "\n",
        "54.3% of all pumps in the data set were found to be functional, while 38.4% were non functional and 7.3% had a status of functional needs repair"
      ]
    },
    {
      "cell_type": "markdown",
      "metadata": {
        "id": "Mxi_0Qel0x-n"
      },
      "source": [
        "##Missing data information "
      ]
    },
    {
      "cell_type": "code",
      "metadata": {
        "colab": {
          "base_uri": "https://localhost:8080/"
        },
        "id": "uj2_TsgnVmaD",
        "outputId": "0725f783-c01d-445d-a902-0d43c780576a"
      },
      "source": [
        "#Checking the number of unique values in each column and also if there are any missing values\n",
        "for column in pump_data:\n",
        "  class_list = []\n",
        "  class_list = pump_data[column].unique()\n",
        "  print('Total entries: ' + str(len(pump_data[column]))  +  ' The unique entries in the column ' + str( column) +  ' are ' + str(len(class_list)))\n",
        "  print(\"Number of missing values are: \", pump_data[column].isna().sum())\n",
        "  if (column ==  'latitude'):\n",
        "    print(\"Number of garbage values = 2e-8 are: \" + str((pump_data[column] == -2e-8 ).sum()))\n",
        "  if (pump_data[column].dtype == 'object'):\n",
        "    print(\"Number of zero values are: \", (pump_data[column] == '0').astype(int).sum())\n",
        "  else:\n",
        "    print(\"Number of zero values are: \", (pump_data[column] == 0).astype(int).sum())\n",
        " \n"
      ],
      "execution_count": null,
      "outputs": [
        {
          "output_type": "stream",
          "text": [
            "Total entries: 44550 The unique entries in the column id are 44550\n",
            "Number of missing values are:  0\n",
            "Number of zero values are:  0\n",
            "Total entries: 44550 The unique entries in the column amount_tsh are 85\n",
            "Number of missing values are:  0\n",
            "Number of zero values are:  31231\n",
            "Total entries: 44550 The unique entries in the column date_recorded are 346\n",
            "Number of missing values are:  0\n",
            "Number of zero values are:  0\n",
            "Total entries: 44550 The unique entries in the column funder are 1652\n",
            "Number of missing values are:  2793\n",
            "Number of zero values are:  572\n",
            "Total entries: 44550 The unique entries in the column gps_height are 2396\n",
            "Number of missing values are:  0\n",
            "Number of zero values are:  15441\n",
            "Total entries: 44550 The unique entries in the column installer are 1855\n",
            "Number of missing values are:  2807\n",
            "Number of zero values are:  572\n",
            "Total entries: 44550 The unique entries in the column longitude are 43155\n",
            "Number of missing values are:  0\n",
            "Number of zero values are:  1354\n",
            "Total entries: 44550 The unique entries in the column latitude are 43155\n",
            "Number of missing values are:  0\n",
            "Number of garbage values = 2e-8 are: 1354\n",
            "Number of zero values are:  0\n",
            "Total entries: 44550 The unique entries in the column wpt_name are 28991\n",
            "Number of missing values are:  0\n",
            "Number of zero values are:  0\n",
            "Total entries: 44550 The unique entries in the column num_private are 59\n",
            "Number of missing values are:  0\n",
            "Number of zero values are:  43964\n",
            "Total entries: 44550 The unique entries in the column basin are 9\n",
            "Number of missing values are:  0\n",
            "Number of zero values are:  0\n",
            "Total entries: 44550 The unique entries in the column subvillage are 16618\n",
            "Number of missing values are:  287\n",
            "Number of zero values are:  0\n",
            "Total entries: 44550 The unique entries in the column region are 21\n",
            "Number of missing values are:  0\n",
            "Number of zero values are:  0\n",
            "Total entries: 44550 The unique entries in the column region_code are 27\n",
            "Number of missing values are:  0\n",
            "Number of zero values are:  0\n",
            "Total entries: 44550 The unique entries in the column district_code are 20\n",
            "Number of missing values are:  0\n",
            "Number of zero values are:  18\n",
            "Total entries: 44550 The unique entries in the column lga are 125\n",
            "Number of missing values are:  0\n",
            "Number of zero values are:  0\n",
            "Total entries: 44550 The unique entries in the column ward are 2080\n",
            "Number of missing values are:  0\n",
            "Number of zero values are:  0\n",
            "Total entries: 44550 The unique entries in the column population are 956\n",
            "Number of missing values are:  0\n",
            "Number of zero values are:  16150\n",
            "Total entries: 44550 The unique entries in the column public_meeting are 3\n",
            "Number of missing values are:  2491\n",
            "Number of zero values are:  0\n",
            "Total entries: 44550 The unique entries in the column recorded_by are 1\n",
            "Number of missing values are:  0\n",
            "Number of zero values are:  0\n",
            "Total entries: 44550 The unique entries in the column scheme_management are 13\n",
            "Number of missing values are:  2832\n",
            "Number of zero values are:  0\n",
            "Total entries: 44550 The unique entries in the column scheme_name are 2507\n",
            "Number of missing values are:  21110\n",
            "Number of zero values are:  0\n",
            "Total entries: 44550 The unique entries in the column permit are 3\n",
            "Number of missing values are:  2336\n",
            "Number of zero values are:  0\n",
            "Total entries: 44550 The unique entries in the column construction_year are 55\n",
            "Number of missing values are:  0\n",
            "Number of zero values are:  15641\n",
            "Total entries: 44550 The unique entries in the column extraction_type are 18\n",
            "Number of missing values are:  0\n",
            "Number of zero values are:  0\n",
            "Total entries: 44550 The unique entries in the column extraction_type_group are 13\n",
            "Number of missing values are:  0\n",
            "Number of zero values are:  0\n",
            "Total entries: 44550 The unique entries in the column extraction_type_class are 7\n",
            "Number of missing values are:  0\n",
            "Number of zero values are:  0\n",
            "Total entries: 44550 The unique entries in the column management are 12\n",
            "Number of missing values are:  0\n",
            "Number of zero values are:  0\n",
            "Total entries: 44550 The unique entries in the column management_group are 5\n",
            "Number of missing values are:  0\n",
            "Number of zero values are:  0\n",
            "Total entries: 44550 The unique entries in the column payment are 7\n",
            "Number of missing values are:  0\n",
            "Number of zero values are:  0\n",
            "Total entries: 44550 The unique entries in the column payment_type are 7\n",
            "Number of missing values are:  0\n",
            "Number of zero values are:  0\n",
            "Total entries: 44550 The unique entries in the column water_quality are 8\n",
            "Number of missing values are:  0\n",
            "Number of zero values are:  0\n",
            "Total entries: 44550 The unique entries in the column quality_group are 6\n",
            "Number of missing values are:  0\n",
            "Number of zero values are:  0\n",
            "Total entries: 44550 The unique entries in the column quantity are 5\n",
            "Number of missing values are:  0\n",
            "Number of zero values are:  0\n",
            "Total entries: 44550 The unique entries in the column quantity_group are 5\n",
            "Number of missing values are:  0\n",
            "Number of zero values are:  0\n",
            "Total entries: 44550 The unique entries in the column source are 10\n",
            "Number of missing values are:  0\n",
            "Number of zero values are:  0\n",
            "Total entries: 44550 The unique entries in the column source_type are 7\n",
            "Number of missing values are:  0\n",
            "Number of zero values are:  0\n",
            "Total entries: 44550 The unique entries in the column source_class are 3\n",
            "Number of missing values are:  0\n",
            "Number of zero values are:  0\n",
            "Total entries: 44550 The unique entries in the column waterpoint_type are 7\n",
            "Number of missing values are:  0\n",
            "Number of zero values are:  0\n",
            "Total entries: 44550 The unique entries in the column waterpoint_type_group are 6\n",
            "Number of missing values are:  0\n",
            "Number of zero values are:  0\n",
            "Total entries: 44550 The unique entries in the column status_group are 3\n",
            "Number of missing values are:  0\n",
            "Number of zero values are:  0\n"
          ],
          "name": "stdout"
        }
      ]
    },
    {
      "cell_type": "markdown",
      "metadata": {
        "id": "C-sxUZ6HYtfh"
      },
      "source": [
        "Observations:-\n",
        "\n",
        "\n",
        "*  Categorical Missing values in 'Funder', 'Installer', 'Subvillage', 'Public_meeting', 'Scheme Management',  and 'Permit' need to be imputed if we include them in our model as features\n",
        "\n",
        "*  Numerical Missing values in 'amount_tsh', 'gps_height', 'construction year', 'population'\n",
        "*   The column 'Recorded_by' and 'Scheme name' can be removed as 'recorded by' is same for every data point and doesn't help our model and Scheme name has to many missing values. Also num_private is heavily skewed towards 0 and column 'id' is just for administrative purpose so we can drop them\n",
        "\n",
        "* The column wpt_name can also be dropped as it has lot of unique values for a categorical kind of variable and will not have enough examples of each category\n",
        "\n",
        "*     Many features have garbage values like 0 which should also be considered as unknown or nan\n",
        "\n",
        "\n",
        "\n",
        "*   Latitude and Longitude has about 1354 pair of values as 2e-8 and 0 which needs to be taken care off.\n",
        "\n",
        "\n",
        "\n",
        "\n",
        "\n",
        "\n",
        "\n",
        "\n"
      ]
    },
    {
      "cell_type": "markdown",
      "metadata": {
        "id": "OC2YKaPdnZVd"
      },
      "source": [
        "## Data Cleaning"
      ]
    },
    {
      "cell_type": "code",
      "metadata": {
        "id": "vCckFWNlvrXv"
      },
      "source": [
        "####################################################\n",
        "## Basic data cleaning - Phase 1\n",
        "\n",
        "#Removing the column 'id', recorded_by\", \"scheme_name\" and \"num_private\"\n",
        "del pump_data['id']\n",
        "del pump_data['recorded_by']\n",
        "del pump_data['scheme_name']\n",
        "del pump_data['num_private']\n",
        "del pump_data['wpt_name']\n",
        "del test_pump_data['id']\n",
        "del test_pump_data['recorded_by']\n",
        "del test_pump_data['scheme_name']\n",
        "del test_pump_data['num_private']\n",
        "del test_pump_data['wpt_name']\n",
        "\n",
        "#Replace all missing values with Nan\n",
        "pump_data = pump_data.fillna(np.nan)\n",
        "test_pump_data = test_pump_data.fillna(np.nan)\n",
        "\n",
        "# Replace the invalid garbage values with NaNs for numerical features.\n",
        "invalid_values = {'amount_tsh':0,\n",
        "                     'gps_height':0,\n",
        "                     'longitude':0,\n",
        "                     'latitude': -2e-08,\n",
        "                     'population': 0,\n",
        "                     'construction_year': 0}\n",
        "            \n",
        "for numerical_feature, null_val in invalid_values.items():\n",
        "  pump_data[numerical_feature] = pump_data[numerical_feature].replace(null_val,np.nan)\n",
        "  test_pump_data[numerical_feature] = test_pump_data[numerical_feature].replace(null_val,np.nan)\n",
        "\n",
        "  #Replace invalid categorical values with Nans for categorical features.\n",
        "invalid_categoricals = {'funder':0,\n",
        "                                   'installer': 0}\n",
        "for categorical_feature, null_val in invalid_categoricals.items():\n",
        "  pump_data[categorical_feature] = pump_data[categorical_feature].replace(null_val,np.nan)\n",
        "  test_pump_data[categorical_feature] = test_pump_data[categorical_feature].replace(null_val,np.nan)\n",
        "\n"
      ],
      "execution_count": null,
      "outputs": []
    },
    {
      "cell_type": "markdown",
      "metadata": {
        "id": "1Wlojog4bFc8"
      },
      "source": [
        "#Variable Transformation, Feature Engineering, Feature Selection or Elimination"
      ]
    },
    {
      "cell_type": "code",
      "metadata": {
        "id": "Vrj50mBN_krY"
      },
      "source": [
        "#do something about the year feature try to convert that using datatime. Only use the year part of date recorded as an int and discard the month and day.\n",
        "# Change date_recorded to year_recorded and drop date_recorded.\n",
        "pump_data['date_recorded'] = pd.to_datetime(pump_data['date_recorded'], yearfirst=True)\n",
        "test_pump_data['date_recorded'] = pd.to_datetime(pump_data['date_recorded'], yearfirst=True)"
      ],
      "execution_count": null,
      "outputs": []
    },
    {
      "cell_type": "code",
      "metadata": {
        "id": "PhsQUyVi_qEW"
      },
      "source": [
        "pump_data['year_recorded'] = [date.year for date in pump_data['date_recorded']]\n",
        "pump_data['year_recorded'] = pump_data['year_recorded'].astype(int)\n",
        "del pump_data['date_recorded']\n",
        "\n",
        "test_pump_data['year_recorded'] = [date.year for date in test_pump_data['date_recorded']]\n",
        "test_pump_data['year_recorded'] = test_pump_data['year_recorded'].astype(int)\n",
        "del test_pump_data['date_recorded']"
      ],
      "execution_count": null,
      "outputs": []
    },
    {
      "cell_type": "markdown",
      "metadata": {
        "id": "3WbVLLFo_i96"
      },
      "source": [
        "## Impute Categorical Features having missing values using simple imputer"
      ]
    },
    {
      "cell_type": "markdown",
      "metadata": {
        "id": "ZTpm0SYLA9Oy"
      },
      "source": [
        "To impute categorical features we can choose common techniques like most frequent as the number of missing values are comparitively small and also randomly distributed"
      ]
    },
    {
      "cell_type": "code",
      "metadata": {
        "id": "-FLl_QhD5hsn"
      },
      "source": [
        "from sklearn.impute import SimpleImputer\n",
        "missing_category_list = ['funder', 'installer', 'subvillage', 'public_meeting', 'scheme_management','permit']\n",
        "imputer = SimpleImputer(missing_values = np.nan, strategy = 'most_frequent') \n",
        "test_imputer = SimpleImputer(missing_values = np.nan, strategy = 'most_frequent')\n",
        "\n",
        "pump_data2 = pump_data.copy()\n",
        "test_pump_data2 = test_pump_data.copy()\n",
        "\n",
        "imputer = imputer.fit(pump_data2)\n",
        "test_imputer = test_imputer.fit(test_pump_data2)\n",
        "\n",
        "pump_data2[:] = imputer.transform(pump_data2)\n",
        "test_pump_data2[:] = test_imputer.transform(test_pump_data2)"
      ],
      "execution_count": null,
      "outputs": []
    },
    {
      "cell_type": "code",
      "metadata": {
        "id": "A0kkdEmh_2RH"
      },
      "source": [
        "for column in missing_category_list:\n",
        "  pump_data[column] = pump_data2[column]\n",
        "  test_pump_data[column] = test_pump_data2[column]"
      ],
      "execution_count": null,
      "outputs": []
    },
    {
      "cell_type": "markdown",
      "metadata": {
        "id": "lRqyrZJR9dxg"
      },
      "source": [
        "## Do ordinal encoding of categorical variables"
      ]
    },
    {
      "cell_type": "markdown",
      "metadata": {
        "id": "X72g4Khp04Vw"
      },
      "source": [
        "The features region code and district can be considered as a categorical variable instead of a numerical one due to its small number of unique values."
      ]
    },
    {
      "cell_type": "code",
      "metadata": {
        "id": "pmgID3w3zZlD"
      },
      "source": [
        "pump_data['region_code'] = pump_data['region_code'].astype(str)\n",
        "pump_data['district_code'] = pump_data['district_code'].astype(str)\n",
        "test_pump_data['region_code'] = test_pump_data['region_code'].astype(str)\n",
        "test_pump_data['district_code'] = test_pump_data['district_code'].astype(str)"
      ],
      "execution_count": null,
      "outputs": []
    },
    {
      "cell_type": "code",
      "metadata": {
        "id": "3EP76EHf8ok5"
      },
      "source": [
        "from sklearn.preprocessing import OrdinalEncoder\n",
        "encoder = OrdinalEncoder()\n",
        "test_encoder = OrdinalEncoder()\n",
        "\n",
        "pump_data3 = pump_data.copy()\n",
        "test_pump_data3 = test_pump_data.copy()\n",
        "\n",
        "categoricals = pump_data3.select_dtypes(exclude='number').columns.tolist()\n",
        "test_categoricals = test_pump_data3.select_dtypes(exclude='number').columns.tolist()\n",
        "\n",
        "encoder.fit(pump_data3[categoricals])\n",
        "test_encoder.fit(test_pump_data3[test_categoricals])\n",
        "\n",
        "pump_data3[categoricals] = encoder.transform(pump_data3[categoricals]) \n",
        "pump_data[categoricals] = pump_data3[categoricals] \n",
        "\n",
        "test_pump_data3[test_categoricals] = test_encoder.transform(test_pump_data3[test_categoricals]) \n",
        "test_pump_data[test_categoricals] = test_pump_data3[test_categoricals] \n"
      ],
      "execution_count": null,
      "outputs": []
    },
    {
      "cell_type": "markdown",
      "metadata": {
        "id": "CFG26Lta6Gqm"
      },
      "source": [
        "## Impute the numerical values using an Iterative Imputer"
      ]
    },
    {
      "cell_type": "markdown",
      "metadata": {
        "id": "pUmRKe4l6kXX"
      },
      "source": [
        "Since some of the numerical features have a lot of missing values hence an Iterative Imputer will work better which estimates the missing values using other features"
      ]
    },
    {
      "cell_type": "code",
      "metadata": {
        "id": "XMyTjeZ9SbuV"
      },
      "source": [
        "from sklearn.experimental import enable_iterative_imputer\n",
        "from sklearn.impute import IterativeImputer\n",
        "imputer = IterativeImputer(random_state = 0)\n",
        "test_imputer = IterativeImputer(random_state = 0)\n",
        " \n",
        "imputer.fit(pump_data)\n",
        "test_imputer.fit(test_pump_data)\n",
        " \n",
        "pump_data[:] = imputer.transform(pump_data)\n",
        "pump_data['construction_year'] = pump_data['construction_year'].astype(int)\n",
        " \n",
        "test_pump_data[:] = test_imputer.transform(test_pump_data)\n",
        "test_pump_data['construction_year'] = test_pump_data['construction_year'].astype(int)"
      ],
      "execution_count": null,
      "outputs": []
    },
    {
      "cell_type": "markdown",
      "metadata": {
        "id": "kPxy7fH6LELt"
      },
      "source": [
        "## Create a new Age_of_pump feature using construction year and year_recorded feature\n",
        "Such a feature can account for the time that has been passed since the last maintainence check. We can delete the features construction year and year_recorded from our dataset"
      ]
    },
    {
      "cell_type": "code",
      "metadata": {
        "id": "yjHhyiTiLPcS"
      },
      "source": [
        "pump_data['Age_of_pump'] = pump_data['year_recorded'] - pump_data['construction_year']\n",
        "test_pump_data['Age_of_pump'] = test_pump_data['year_recorded'] - test_pump_data['construction_year']\n",
        "del pump_data['year_recorded']\n",
        "del pump_data['construction_year']\n",
        "del test_pump_data['year_recorded']\n",
        "del test_pump_data['construction_year']"
      ],
      "execution_count": null,
      "outputs": []
    },
    {
      "cell_type": "code",
      "metadata": {
        "colab": {
          "base_uri": "https://localhost:8080/",
          "height": 439
        },
        "id": "XOnMWsNDLAfI",
        "outputId": "f047a6a6-581f-4c2a-ccf4-2e40f86c53fc"
      },
      "source": [
        "pump_data"
      ],
      "execution_count": null,
      "outputs": [
        {
          "output_type": "execute_result",
          "data": {
            "text/html": [
              "<div>\n",
              "<style scoped>\n",
              "    .dataframe tbody tr th:only-of-type {\n",
              "        vertical-align: middle;\n",
              "    }\n",
              "\n",
              "    .dataframe tbody tr th {\n",
              "        vertical-align: top;\n",
              "    }\n",
              "\n",
              "    .dataframe thead th {\n",
              "        text-align: right;\n",
              "    }\n",
              "</style>\n",
              "<table border=\"1\" class=\"dataframe\">\n",
              "  <thead>\n",
              "    <tr style=\"text-align: right;\">\n",
              "      <th></th>\n",
              "      <th>amount_tsh</th>\n",
              "      <th>funder</th>\n",
              "      <th>gps_height</th>\n",
              "      <th>installer</th>\n",
              "      <th>longitude</th>\n",
              "      <th>latitude</th>\n",
              "      <th>basin</th>\n",
              "      <th>subvillage</th>\n",
              "      <th>region</th>\n",
              "      <th>region_code</th>\n",
              "      <th>district_code</th>\n",
              "      <th>lga</th>\n",
              "      <th>ward</th>\n",
              "      <th>population</th>\n",
              "      <th>public_meeting</th>\n",
              "      <th>scheme_management</th>\n",
              "      <th>permit</th>\n",
              "      <th>extraction_type</th>\n",
              "      <th>extraction_type_group</th>\n",
              "      <th>extraction_type_class</th>\n",
              "      <th>management</th>\n",
              "      <th>management_group</th>\n",
              "      <th>payment</th>\n",
              "      <th>payment_type</th>\n",
              "      <th>water_quality</th>\n",
              "      <th>quality_group</th>\n",
              "      <th>quantity</th>\n",
              "      <th>quantity_group</th>\n",
              "      <th>source</th>\n",
              "      <th>source_type</th>\n",
              "      <th>source_class</th>\n",
              "      <th>waterpoint_type</th>\n",
              "      <th>waterpoint_type_group</th>\n",
              "      <th>status_group</th>\n",
              "      <th>Age_of_pump</th>\n",
              "    </tr>\n",
              "  </thead>\n",
              "  <tbody>\n",
              "    <tr>\n",
              "      <th>0</th>\n",
              "      <td>7.000000</td>\n",
              "      <td>380.0</td>\n",
              "      <td>1203.000000</td>\n",
              "      <td>181.0</td>\n",
              "      <td>37.228664</td>\n",
              "      <td>-3.256505</td>\n",
              "      <td>5.0</td>\n",
              "      <td>7555.0</td>\n",
              "      <td>6.0</td>\n",
              "      <td>15.0</td>\n",
              "      <td>10.0</td>\n",
              "      <td>16.0</td>\n",
              "      <td>947.0</td>\n",
              "      <td>90.000000</td>\n",
              "      <td>1.0</td>\n",
              "      <td>10.0</td>\n",
              "      <td>1.0</td>\n",
              "      <td>3.0</td>\n",
              "      <td>1.0</td>\n",
              "      <td>0.0</td>\n",
              "      <td>9.0</td>\n",
              "      <td>4.0</td>\n",
              "      <td>4.0</td>\n",
              "      <td>5.0</td>\n",
              "      <td>6.0</td>\n",
              "      <td>2.0</td>\n",
              "      <td>1.0</td>\n",
              "      <td>1.0</td>\n",
              "      <td>8.0</td>\n",
              "      <td>6.0</td>\n",
              "      <td>0.0</td>\n",
              "      <td>1.0</td>\n",
              "      <td>1.0</td>\n",
              "      <td>0.0</td>\n",
              "      <td>5.0</td>\n",
              "    </tr>\n",
              "    <tr>\n",
              "      <th>1</th>\n",
              "      <td>1204.206855</td>\n",
              "      <td>151.0</td>\n",
              "      <td>1409.000000</td>\n",
              "      <td>177.0</td>\n",
              "      <td>34.615481</td>\n",
              "      <td>-9.972601</td>\n",
              "      <td>1.0</td>\n",
              "      <td>3474.0</td>\n",
              "      <td>3.0</td>\n",
              "      <td>2.0</td>\n",
              "      <td>10.0</td>\n",
              "      <td>51.0</td>\n",
              "      <td>879.0</td>\n",
              "      <td>70.000000</td>\n",
              "      <td>0.0</td>\n",
              "      <td>4.0</td>\n",
              "      <td>0.0</td>\n",
              "      <td>3.0</td>\n",
              "      <td>1.0</td>\n",
              "      <td>0.0</td>\n",
              "      <td>4.0</td>\n",
              "      <td>0.0</td>\n",
              "      <td>0.0</td>\n",
              "      <td>2.0</td>\n",
              "      <td>6.0</td>\n",
              "      <td>2.0</td>\n",
              "      <td>1.0</td>\n",
              "      <td>1.0</td>\n",
              "      <td>8.0</td>\n",
              "      <td>6.0</td>\n",
              "      <td>0.0</td>\n",
              "      <td>1.0</td>\n",
              "      <td>1.0</td>\n",
              "      <td>0.0</td>\n",
              "      <td>27.0</td>\n",
              "    </tr>\n",
              "    <tr>\n",
              "      <th>2</th>\n",
              "      <td>1302.594588</td>\n",
              "      <td>398.0</td>\n",
              "      <td>1572.000000</td>\n",
              "      <td>356.0</td>\n",
              "      <td>36.658778</td>\n",
              "      <td>-3.321529</td>\n",
              "      <td>5.0</td>\n",
              "      <td>9062.0</td>\n",
              "      <td>0.0</td>\n",
              "      <td>11.0</td>\n",
              "      <td>3.0</td>\n",
              "      <td>0.0</td>\n",
              "      <td>688.0</td>\n",
              "      <td>150.000000</td>\n",
              "      <td>1.0</td>\n",
              "      <td>7.0</td>\n",
              "      <td>1.0</td>\n",
              "      <td>3.0</td>\n",
              "      <td>1.0</td>\n",
              "      <td>0.0</td>\n",
              "      <td>7.0</td>\n",
              "      <td>4.0</td>\n",
              "      <td>0.0</td>\n",
              "      <td>2.0</td>\n",
              "      <td>6.0</td>\n",
              "      <td>2.0</td>\n",
              "      <td>2.0</td>\n",
              "      <td>2.0</td>\n",
              "      <td>8.0</td>\n",
              "      <td>6.0</td>\n",
              "      <td>0.0</td>\n",
              "      <td>1.0</td>\n",
              "      <td>1.0</td>\n",
              "      <td>2.0</td>\n",
              "      <td>11.0</td>\n",
              "    </tr>\n",
              "    <tr>\n",
              "      <th>3</th>\n",
              "      <td>1185.442707</td>\n",
              "      <td>265.0</td>\n",
              "      <td>1160.708828</td>\n",
              "      <td>385.0</td>\n",
              "      <td>33.628025</td>\n",
              "      <td>-8.860795</td>\n",
              "      <td>6.0</td>\n",
              "      <td>1543.0</td>\n",
              "      <td>10.0</td>\n",
              "      <td>3.0</td>\n",
              "      <td>3.0</td>\n",
              "      <td>60.0</td>\n",
              "      <td>386.0</td>\n",
              "      <td>188.476368</td>\n",
              "      <td>1.0</td>\n",
              "      <td>7.0</td>\n",
              "      <td>1.0</td>\n",
              "      <td>3.0</td>\n",
              "      <td>1.0</td>\n",
              "      <td>0.0</td>\n",
              "      <td>11.0</td>\n",
              "      <td>4.0</td>\n",
              "      <td>2.0</td>\n",
              "      <td>0.0</td>\n",
              "      <td>6.0</td>\n",
              "      <td>2.0</td>\n",
              "      <td>2.0</td>\n",
              "      <td>2.0</td>\n",
              "      <td>6.0</td>\n",
              "      <td>4.0</td>\n",
              "      <td>1.0</td>\n",
              "      <td>1.0</td>\n",
              "      <td>1.0</td>\n",
              "      <td>0.0</td>\n",
              "      <td>17.0</td>\n",
              "    </tr>\n",
              "    <tr>\n",
              "      <th>4</th>\n",
              "      <td>300.000000</td>\n",
              "      <td>265.0</td>\n",
              "      <td>1283.000000</td>\n",
              "      <td>385.0</td>\n",
              "      <td>37.655509</td>\n",
              "      <td>-3.669777</td>\n",
              "      <td>5.0</td>\n",
              "      <td>12055.0</td>\n",
              "      <td>6.0</td>\n",
              "      <td>15.0</td>\n",
              "      <td>3.0</td>\n",
              "      <td>84.0</td>\n",
              "      <td>1878.0</td>\n",
              "      <td>34.000000</td>\n",
              "      <td>1.0</td>\n",
              "      <td>7.0</td>\n",
              "      <td>0.0</td>\n",
              "      <td>3.0</td>\n",
              "      <td>1.0</td>\n",
              "      <td>0.0</td>\n",
              "      <td>7.0</td>\n",
              "      <td>4.0</td>\n",
              "      <td>3.0</td>\n",
              "      <td>1.0</td>\n",
              "      <td>6.0</td>\n",
              "      <td>2.0</td>\n",
              "      <td>2.0</td>\n",
              "      <td>2.0</td>\n",
              "      <td>8.0</td>\n",
              "      <td>6.0</td>\n",
              "      <td>0.0</td>\n",
              "      <td>1.0</td>\n",
              "      <td>1.0</td>\n",
              "      <td>0.0</td>\n",
              "      <td>6.0</td>\n",
              "    </tr>\n",
              "    <tr>\n",
              "      <th>...</th>\n",
              "      <td>...</td>\n",
              "      <td>...</td>\n",
              "      <td>...</td>\n",
              "      <td>...</td>\n",
              "      <td>...</td>\n",
              "      <td>...</td>\n",
              "      <td>...</td>\n",
              "      <td>...</td>\n",
              "      <td>...</td>\n",
              "      <td>...</td>\n",
              "      <td>...</td>\n",
              "      <td>...</td>\n",
              "      <td>...</td>\n",
              "      <td>...</td>\n",
              "      <td>...</td>\n",
              "      <td>...</td>\n",
              "      <td>...</td>\n",
              "      <td>...</td>\n",
              "      <td>...</td>\n",
              "      <td>...</td>\n",
              "      <td>...</td>\n",
              "      <td>...</td>\n",
              "      <td>...</td>\n",
              "      <td>...</td>\n",
              "      <td>...</td>\n",
              "      <td>...</td>\n",
              "      <td>...</td>\n",
              "      <td>...</td>\n",
              "      <td>...</td>\n",
              "      <td>...</td>\n",
              "      <td>...</td>\n",
              "      <td>...</td>\n",
              "      <td>...</td>\n",
              "      <td>...</td>\n",
              "      <td>...</td>\n",
              "    </tr>\n",
              "    <tr>\n",
              "      <th>44545</th>\n",
              "      <td>1454.982084</td>\n",
              "      <td>1625.0</td>\n",
              "      <td>1173.779326</td>\n",
              "      <td>1504.0</td>\n",
              "      <td>32.383715</td>\n",
              "      <td>-3.457624</td>\n",
              "      <td>3.0</td>\n",
              "      <td>580.0</td>\n",
              "      <td>17.0</td>\n",
              "      <td>8.0</td>\n",
              "      <td>5.0</td>\n",
              "      <td>25.0</td>\n",
              "      <td>1857.0</td>\n",
              "      <td>593.223697</td>\n",
              "      <td>1.0</td>\n",
              "      <td>7.0</td>\n",
              "      <td>1.0</td>\n",
              "      <td>8.0</td>\n",
              "      <td>5.0</td>\n",
              "      <td>1.0</td>\n",
              "      <td>11.0</td>\n",
              "      <td>4.0</td>\n",
              "      <td>6.0</td>\n",
              "      <td>6.0</td>\n",
              "      <td>3.0</td>\n",
              "      <td>3.0</td>\n",
              "      <td>1.0</td>\n",
              "      <td>1.0</td>\n",
              "      <td>7.0</td>\n",
              "      <td>5.0</td>\n",
              "      <td>0.0</td>\n",
              "      <td>4.0</td>\n",
              "      <td>3.0</td>\n",
              "      <td>0.0</td>\n",
              "      <td>11.0</td>\n",
              "    </tr>\n",
              "    <tr>\n",
              "      <th>44546</th>\n",
              "      <td>1226.830184</td>\n",
              "      <td>246.0</td>\n",
              "      <td>1365.233402</td>\n",
              "      <td>330.0</td>\n",
              "      <td>31.615509</td>\n",
              "      <td>-2.738682</td>\n",
              "      <td>4.0</td>\n",
              "      <td>2899.0</td>\n",
              "      <td>4.0</td>\n",
              "      <td>9.0</td>\n",
              "      <td>18.0</td>\n",
              "      <td>12.0</td>\n",
              "      <td>567.0</td>\n",
              "      <td>417.827759</td>\n",
              "      <td>1.0</td>\n",
              "      <td>8.0</td>\n",
              "      <td>1.0</td>\n",
              "      <td>0.0</td>\n",
              "      <td>0.0</td>\n",
              "      <td>1.0</td>\n",
              "      <td>10.0</td>\n",
              "      <td>4.0</td>\n",
              "      <td>3.0</td>\n",
              "      <td>1.0</td>\n",
              "      <td>6.0</td>\n",
              "      <td>2.0</td>\n",
              "      <td>1.0</td>\n",
              "      <td>1.0</td>\n",
              "      <td>1.0</td>\n",
              "      <td>0.0</td>\n",
              "      <td>0.0</td>\n",
              "      <td>4.0</td>\n",
              "      <td>3.0</td>\n",
              "      <td>2.0</td>\n",
              "      <td>19.0</td>\n",
              "    </tr>\n",
              "    <tr>\n",
              "      <th>44547</th>\n",
              "      <td>1045.255053</td>\n",
              "      <td>398.0</td>\n",
              "      <td>969.000000</td>\n",
              "      <td>514.0</td>\n",
              "      <td>35.134412</td>\n",
              "      <td>-10.676062</td>\n",
              "      <td>7.0</td>\n",
              "      <td>8393.0</td>\n",
              "      <td>16.0</td>\n",
              "      <td>1.0</td>\n",
              "      <td>5.0</td>\n",
              "      <td>61.0</td>\n",
              "      <td>637.0</td>\n",
              "      <td>60.000000</td>\n",
              "      <td>1.0</td>\n",
              "      <td>7.0</td>\n",
              "      <td>1.0</td>\n",
              "      <td>3.0</td>\n",
              "      <td>1.0</td>\n",
              "      <td>0.0</td>\n",
              "      <td>7.0</td>\n",
              "      <td>4.0</td>\n",
              "      <td>6.0</td>\n",
              "      <td>6.0</td>\n",
              "      <td>6.0</td>\n",
              "      <td>2.0</td>\n",
              "      <td>3.0</td>\n",
              "      <td>3.0</td>\n",
              "      <td>8.0</td>\n",
              "      <td>6.0</td>\n",
              "      <td>0.0</td>\n",
              "      <td>1.0</td>\n",
              "      <td>1.0</td>\n",
              "      <td>0.0</td>\n",
              "      <td>36.0</td>\n",
              "    </tr>\n",
              "    <tr>\n",
              "      <th>44548</th>\n",
              "      <td>200.000000</td>\n",
              "      <td>26.0</td>\n",
              "      <td>1269.000000</td>\n",
              "      <td>21.0</td>\n",
              "      <td>37.886287</td>\n",
              "      <td>-4.390882</td>\n",
              "      <td>5.0</td>\n",
              "      <td>10107.0</td>\n",
              "      <td>6.0</td>\n",
              "      <td>15.0</td>\n",
              "      <td>5.0</td>\n",
              "      <td>101.0</td>\n",
              "      <td>1921.0</td>\n",
              "      <td>80.000000</td>\n",
              "      <td>1.0</td>\n",
              "      <td>11.0</td>\n",
              "      <td>1.0</td>\n",
              "      <td>3.0</td>\n",
              "      <td>1.0</td>\n",
              "      <td>0.0</td>\n",
              "      <td>7.0</td>\n",
              "      <td>4.0</td>\n",
              "      <td>3.0</td>\n",
              "      <td>1.0</td>\n",
              "      <td>6.0</td>\n",
              "      <td>2.0</td>\n",
              "      <td>2.0</td>\n",
              "      <td>2.0</td>\n",
              "      <td>8.0</td>\n",
              "      <td>6.0</td>\n",
              "      <td>0.0</td>\n",
              "      <td>1.0</td>\n",
              "      <td>1.0</td>\n",
              "      <td>0.0</td>\n",
              "      <td>2.0</td>\n",
              "    </tr>\n",
              "    <tr>\n",
              "      <th>44549</th>\n",
              "      <td>1080.231313</td>\n",
              "      <td>1625.0</td>\n",
              "      <td>1250.036671</td>\n",
              "      <td>283.0</td>\n",
              "      <td>32.976560</td>\n",
              "      <td>-4.262149</td>\n",
              "      <td>3.0</td>\n",
              "      <td>3463.0</td>\n",
              "      <td>19.0</td>\n",
              "      <td>5.0</td>\n",
              "      <td>1.0</td>\n",
              "      <td>94.0</td>\n",
              "      <td>540.0</td>\n",
              "      <td>473.090724</td>\n",
              "      <td>1.0</td>\n",
              "      <td>7.0</td>\n",
              "      <td>0.0</td>\n",
              "      <td>8.0</td>\n",
              "      <td>5.0</td>\n",
              "      <td>1.0</td>\n",
              "      <td>7.0</td>\n",
              "      <td>4.0</td>\n",
              "      <td>5.0</td>\n",
              "      <td>3.0</td>\n",
              "      <td>6.0</td>\n",
              "      <td>2.0</td>\n",
              "      <td>1.0</td>\n",
              "      <td>1.0</td>\n",
              "      <td>7.0</td>\n",
              "      <td>5.0</td>\n",
              "      <td>0.0</td>\n",
              "      <td>4.0</td>\n",
              "      <td>3.0</td>\n",
              "      <td>0.0</td>\n",
              "      <td>13.0</td>\n",
              "    </tr>\n",
              "  </tbody>\n",
              "</table>\n",
              "<p>44550 rows × 35 columns</p>\n",
              "</div>"
            ],
            "text/plain": [
              "        amount_tsh  funder  ...  status_group  Age_of_pump\n",
              "0         7.000000   380.0  ...           0.0          5.0\n",
              "1      1204.206855   151.0  ...           0.0         27.0\n",
              "2      1302.594588   398.0  ...           2.0         11.0\n",
              "3      1185.442707   265.0  ...           0.0         17.0\n",
              "4       300.000000   265.0  ...           0.0          6.0\n",
              "...            ...     ...  ...           ...          ...\n",
              "44545  1454.982084  1625.0  ...           0.0         11.0\n",
              "44546  1226.830184   246.0  ...           2.0         19.0\n",
              "44547  1045.255053   398.0  ...           0.0         36.0\n",
              "44548   200.000000    26.0  ...           0.0          2.0\n",
              "44549  1080.231313  1625.0  ...           0.0         13.0\n",
              "\n",
              "[44550 rows x 35 columns]"
            ]
          },
          "metadata": {
            "tags": []
          },
          "execution_count": 62
        }
      ]
    },
    {
      "cell_type": "markdown",
      "metadata": {
        "id": "nRPmQeWoUYus"
      },
      "source": [
        "## Corrrelation Analysis"
      ]
    },
    {
      "cell_type": "code",
      "metadata": {
        "colab": {
          "base_uri": "https://localhost:8080/",
          "height": 781
        },
        "id": "BCRlz2akUd1B",
        "outputId": "46d2c825-6728-492a-ec5c-f04dd9360288"
      },
      "source": [
        "corrMatrix = pump_data.corr(method = 'spearman')\n",
        "fig, ax = plt.subplots(figsize = (20,16))\n",
        "sns.heatmap(abs(corrMatrix),annot= False)\n",
        "plt.show()"
      ],
      "execution_count": null,
      "outputs": [
        {
          "output_type": "display_data",
          "data": {
            "image/png": "[encoded data removed]",
            "text/plain": [
              "<Figure size 1440x1152 with 2 Axes>"
            ]
          },
          "metadata": {
            "tags": [],
            "needs_background": "light"
          }
        }
      ]
    },
    {
      "cell_type": "markdown",
      "metadata": {
        "id": "UetG3PhhNsrq"
      },
      "source": [
        "* As we can see from the above correlation matrix that 'extraction_type_group' and 'extraction_type' are highly correlated so one of them can be removed. \n",
        "   \n",
        "* Also 'quantity' and 'quantity_group' are highly correlated. Therefore we can remove 'quantity' feature \n",
        "\n",
        "\n",
        "\n",
        "*  Similarly 'source_type' and 'source' are highly correlated and one of them can be removed and similarly for 'waterpoint_type_group' and 'waterpoint_type'.\n",
        "\n",
        "\n",
        "\n",
        "\n"
      ]
    },
    {
      "cell_type": "code",
      "metadata": {
        "id": "HrEneZavWhYH"
      },
      "source": [
        "del pump_data['extraction_type_group']\n",
        "del pump_data['quantity']\n",
        "del pump_data['source']\n",
        "del pump_data['waterpoint_type_group']\n",
        "del test_pump_data['extraction_type_group']\n",
        "del test_pump_data['quantity']\n",
        "del test_pump_data['source']\n",
        "del test_pump_data['waterpoint_type_group']"
      ],
      "execution_count": null,
      "outputs": []
    },
    {
      "cell_type": "markdown",
      "metadata": {
        "id": "bi6MHSHiRgoP"
      },
      "source": [
        "## Separate the labels from the dataset"
      ]
    },
    {
      "cell_type": "markdown",
      "metadata": {
        "id": "jRcI3TCwSQUj"
      },
      "source": [
        "\n",
        "\n",
        "* 0 - denotes Functional   \n",
        "* 1 - denotes Functional but need repairs   \n",
        "* 2 - denotes Non Functional   \n",
        "\n",
        "\n",
        "\n"
      ]
    },
    {
      "cell_type": "code",
      "metadata": {
        "id": "mYpltM_mRfYM"
      },
      "source": [
        "Labels = pump_data['status_group']\n",
        "del pump_data['status_group']"
      ],
      "execution_count": null,
      "outputs": []
    },
    {
      "cell_type": "markdown",
      "metadata": {
        "id": "R-3MtsQObNff"
      },
      "source": [
        "# Declaration of ML frameworks(eg:- SVM with gaussian kernel) to be used with a prior hypothesis of which method is likely to work better due to insights from previous steps. Declare some resources on the net that you read to find out which ML framework is better suited for which type of data.\n",
        "\n",
        "\n",
        "\n",
        "*   https://www.kdnuggets.com/2020/05/guide-choose-right-machine-learning-algorithm.html#:~:text=SVM%20is%20better%20suited%20in,types%20of%20machine%20learning%20problems.\n",
        "\n",
        "\n",
        "\n",
        "*   https://www.upgrad.com/blog/bagging-vs-boosting/#:~:text=Bagging%20and%20Boosting%3A%20Differences,-As%20we%20said&text=Boosting%20is%20a%20method%20of,model%20receives%20an%20equal%20weight.\n",
        "\n",
        "\n",
        "\n"
      ]
    },
    {
      "cell_type": "markdown",
      "metadata": {
        "id": "azH60OXzStbE"
      },
      "source": [
        "Following frameworks are used for prediction\n",
        "\n",
        "1. SVM with Gaussian Kernel\n",
        "2. Boosting\n",
        "3. Random Forest classifier(Bagging)\n",
        "4. Decision Trees classifier\n",
        "\n",
        "Out of the above 4 hypothesis is that Bagging method will work well for this data since boosting method merges different predictions and is applied when we want to reduce variance on test data and we already have low bias. We have lots of data so there is less possibility of having high bias. We cannot use SVM here because the number of observations are too high and it is not suitable for large datasets"
      ]
    },
    {
      "cell_type": "markdown",
      "metadata": {
        "id": "IM5tXMvwFSnd"
      },
      "source": [
        "Running The four classifiers with random hyperparamters"
      ]
    },
    {
      "cell_type": "markdown",
      "metadata": {
        "id": "5HIYfXJRTCB3"
      },
      "source": [
        "## SVM with Gaussian Kernel"
      ]
    },
    {
      "cell_type": "code",
      "metadata": {
        "colab": {
          "base_uri": "https://localhost:8080/"
        },
        "id": "qs1pwMKQkwTU",
        "outputId": "c2bd5bac-d3ee-4ab6-c682-72b805f4b9bd"
      },
      "source": [
        "from sklearn.pipeline import make_pipeline\n",
        "from sklearn.preprocessing import StandardScaler\n",
        "from sklearn.svm import SVC\n",
        "\n",
        "svm_classifier = make_pipeline(StandardScaler(), SVC(gamma = 'auto'))\n",
        "svm_classifier.fit(pump_data,Labels)\n"
      ],
      "execution_count": null,
      "outputs": [
        {
          "output_type": "execute_result",
          "data": {
            "text/plain": [
              "Pipeline(memory=None,\n",
              "         steps=[('standardscaler',\n",
              "                 StandardScaler(copy=True, with_mean=True, with_std=True)),\n",
              "                ('svc',\n",
              "                 SVC(C=1.0, break_ties=False, cache_size=200, class_weight=None,\n",
              "                     coef0=0.0, decision_function_shape='ovr', degree=3,\n",
              "                     gamma='auto', kernel='rbf', max_iter=-1, probability=False,\n",
              "                     random_state=None, shrinking=True, tol=0.001,\n",
              "                     verbose=False))],\n",
              "         verbose=False)"
            ]
          },
          "metadata": {
            "tags": []
          },
          "execution_count": 594
        }
      ]
    },
    {
      "cell_type": "code",
      "metadata": {
        "colab": {
          "base_uri": "https://localhost:8080/"
        },
        "id": "9tcphCnOyoXb",
        "outputId": "e7b7fefe-c074-4081-9e5e-68614752300a"
      },
      "source": [
        "from sklearn.metrics import accuracy_score\n",
        "y_pred = svm_classifier.predict(pump_data)\n",
        "accuracy_score(Labels, y_pred)"
      ],
      "execution_count": null,
      "outputs": [
        {
          "output_type": "execute_result",
          "data": {
            "text/plain": [
              "0.8293153759820426"
            ]
          },
          "metadata": {
            "tags": []
          },
          "execution_count": 595
        }
      ]
    },
    {
      "cell_type": "markdown",
      "metadata": {
        "id": "4KY8bwLtQNxB"
      },
      "source": [
        "SVM with kernel is taking longer time to converge. Not appropriate for this dataset"
      ]
    },
    {
      "cell_type": "markdown",
      "metadata": {
        "id": "zjq5p00CjohV"
      },
      "source": [
        "## Boosting"
      ]
    },
    {
      "cell_type": "code",
      "metadata": {
        "colab": {
          "base_uri": "https://localhost:8080/"
        },
        "id": "73z2SCG7lswH",
        "outputId": "d0f3c161-7b8a-4818-c5a2-318268c2f3c6"
      },
      "source": [
        "from sklearn.ensemble import GradientBoostingClassifier\n",
        "modelxgb = GradientBoostingClassifier(n_estimators = 60, learning_rate = 1.0, max_depth = 6,random_state = 0)\n",
        "modelxgb.fit(pump_data,Labels)"
      ],
      "execution_count": null,
      "outputs": [
        {
          "output_type": "execute_result",
          "data": {
            "text/plain": [
              "GradientBoostingClassifier(ccp_alpha=0.0, criterion='friedman_mse', init=None,\n",
              "                           learning_rate=1.0, loss='deviance', max_depth=6,\n",
              "                           max_features=None, max_leaf_nodes=None,\n",
              "                           min_impurity_decrease=0.0, min_impurity_split=None,\n",
              "                           min_samples_leaf=1, min_samples_split=2,\n",
              "                           min_weight_fraction_leaf=0.0, n_estimators=60,\n",
              "                           n_iter_no_change=None, presort='deprecated',\n",
              "                           random_state=0, subsample=1.0, tol=0.0001,\n",
              "                           validation_fraction=0.1, verbose=0,\n",
              "                           warm_start=False)"
            ]
          },
          "metadata": {
            "tags": []
          },
          "execution_count": 31
        }
      ]
    },
    {
      "cell_type": "code",
      "metadata": {
        "colab": {
          "base_uri": "https://localhost:8080/"
        },
        "id": "3KEBihNEkp9u",
        "outputId": "b54243e8-65d3-4a8a-819f-0059df6acfab"
      },
      "source": [
        "from sklearn.metrics import accuracy_score\n",
        "y_pred = modelxgb.predict(pump_data)\n",
        "accuracy_score(Labels, y_pred)"
      ],
      "execution_count": null,
      "outputs": [
        {
          "output_type": "execute_result",
          "data": {
            "text/plain": [
              "0.9592143658810326"
            ]
          },
          "metadata": {
            "tags": []
          },
          "execution_count": 32
        }
      ]
    },
    {
      "cell_type": "markdown",
      "metadata": {
        "id": "zish9QqqkBav"
      },
      "source": [
        "## Random Forests"
      ]
    },
    {
      "cell_type": "code",
      "metadata": {
        "colab": {
          "base_uri": "https://localhost:8080/"
        },
        "id": "scKriX2gkFz0",
        "outputId": "dbc7a764-34f1-4bf5-bdf3-bc994d79c738"
      },
      "source": [
        "from sklearn.ensemble import RandomForestClassifier\n",
        "random_f_classifier = RandomForestClassifier(max_depth = 15, random_state = 0)\n",
        "random_f_classifier.fit(pump_data,Labels)"
      ],
      "execution_count": null,
      "outputs": [
        {
          "output_type": "execute_result",
          "data": {
            "text/plain": [
              "RandomForestClassifier(bootstrap=True, ccp_alpha=0.0, class_weight=None,\n",
              "                       criterion='gini', max_depth=15, max_features='auto',\n",
              "                       max_leaf_nodes=None, max_samples=None,\n",
              "                       min_impurity_decrease=0.0, min_impurity_split=None,\n",
              "                       min_samples_leaf=1, min_samples_split=2,\n",
              "                       min_weight_fraction_leaf=0.0, n_estimators=100,\n",
              "                       n_jobs=None, oob_score=False, random_state=0, verbose=0,\n",
              "                       warm_start=False)"
            ]
          },
          "metadata": {
            "tags": []
          },
          "execution_count": 33
        }
      ]
    },
    {
      "cell_type": "code",
      "metadata": {
        "colab": {
          "base_uri": "https://localhost:8080/"
        },
        "id": "C1tg3jxrErGl",
        "outputId": "4893cdad-ee39-4683-b28c-9fa8b0e98408"
      },
      "source": [
        "from sklearn.metrics import accuracy_score\n",
        "y_pred = random_f_classifier.predict(pump_data)\n",
        "accuracy_score(Labels, y_pred)"
      ],
      "execution_count": null,
      "outputs": [
        {
          "output_type": "execute_result",
          "data": {
            "text/plain": [
              "0.9158249158249159"
            ]
          },
          "metadata": {
            "tags": []
          },
          "execution_count": 34
        }
      ]
    },
    {
      "cell_type": "markdown",
      "metadata": {
        "id": "y0kPk3qGkGaN"
      },
      "source": [
        "## Decision Trees"
      ]
    },
    {
      "cell_type": "code",
      "metadata": {
        "colab": {
          "base_uri": "https://localhost:8080/"
        },
        "id": "P7DnwpJdkJDT",
        "outputId": "2add00d0-57a4-48bf-bcdb-d8c37255f320"
      },
      "source": [
        "from sklearn.tree import DecisionTreeClassifier\n",
        "decision_clf = DecisionTreeClassifier(max_depth = 15)\n",
        "decision_clf.fit(pump_data,Labels)"
      ],
      "execution_count": null,
      "outputs": [
        {
          "output_type": "execute_result",
          "data": {
            "text/plain": [
              "DecisionTreeClassifier(ccp_alpha=0.0, class_weight=None, criterion='gini',\n",
              "                       max_depth=15, max_features=None, max_leaf_nodes=None,\n",
              "                       min_impurity_decrease=0.0, min_impurity_split=None,\n",
              "                       min_samples_leaf=1, min_samples_split=2,\n",
              "                       min_weight_fraction_leaf=0.0, presort='deprecated',\n",
              "                       random_state=None, splitter='best')"
            ]
          },
          "metadata": {
            "tags": []
          },
          "execution_count": 35
        }
      ]
    },
    {
      "cell_type": "code",
      "metadata": {
        "colab": {
          "base_uri": "https://localhost:8080/"
        },
        "id": "ZsbKlyfuGrvk",
        "outputId": "5aa08fd0-4e15-49e5-8b2a-f3b8ccef952a"
      },
      "source": [
        "from sklearn.metrics import accuracy_score\n",
        "y_pred = decision_clf.predict(pump_data)\n",
        "accuracy_score(Labels, y_pred)"
      ],
      "execution_count": null,
      "outputs": [
        {
          "output_type": "execute_result",
          "data": {
            "text/plain": [
              "0.9081032547699215"
            ]
          },
          "metadata": {
            "tags": []
          },
          "execution_count": 36
        }
      ]
    },
    {
      "cell_type": "markdown",
      "metadata": {
        "id": "jE9iz_PRbpUm"
      },
      "source": [
        "#Diligent Hyperparameter tuning for at least three frameworks"
      ]
    },
    {
      "cell_type": "markdown",
      "metadata": {
        "id": "2zygFFGIDZrw"
      },
      "source": [
        "## Hyperparameter Tuning for Boosting"
      ]
    },
    {
      "cell_type": "code",
      "metadata": {
        "id": "PREF6i-cbvw8",
        "colab": {
          "base_uri": "https://localhost:8080/"
        },
        "outputId": "d3c0065b-99ea-4a57-90d7-8a29d19726a7"
      },
      "source": [
        "from sklearn.model_selection import GridSearchCV\n",
        "num_of_estimators = [50,100]\n",
        "max_depth = [15,30]\n",
        "\n",
        "hyperparameters = {'n_estimators': num_of_estimators, 'max_depth': max_depth}\n",
        "\n",
        "from sklearn.ensemble import GradientBoostingClassifier\n",
        "boosting_classifier = GradientBoostingClassifier()\n",
        "boosting_search = GridSearchCV(estimator = boosting_classifier, param_grid = hyperparameters, scoring = 'f1_micro',n_jobs = -1,cv = 3)\n",
        "boosting_search.fit(np.array(pump_data),np.squeeze(Labels))\n",
        "print(\"Best Boosting parameeters are: \")\n",
        "print(boosting_search.best_params_)\n",
        "print(\"Score for the best model is: \" + str(boosting_search.best_score_))"
      ],
      "execution_count": null,
      "outputs": [
        {
          "output_type": "stream",
          "text": [
            "Best Boosting parameeters are: \n",
            "{'max_depth': 15, 'n_estimators': 100}\n",
            "Score for the best model is: 0.8591021324354658\n"
          ],
          "name": "stdout"
        }
      ]
    },
    {
      "cell_type": "markdown",
      "metadata": {
        "id": "zxa8N4n_Dft9"
      },
      "source": [
        "## Hyperparameter Tuning for Random Forests"
      ]
    },
    {
      "cell_type": "code",
      "metadata": {
        "colab": {
          "base_uri": "https://localhost:8080/"
        },
        "id": "Asw8ICsKDlUL",
        "outputId": "49a78447-ad04-48b7-f1b2-53bb5227476c"
      },
      "source": [
        "from sklearn.model_selection import GridSearchCV\n",
        "num_of_estimators = [25,50,75,100]\n",
        "max_depth = [15,20,30,35]\n",
        "\n",
        "hyperparameters = {'n_estimators': num_of_estimators, 'max_depth': max_depth}\n",
        "\n",
        "from sklearn.ensemble import RandomForestClassifier\n",
        "rf_classifier = RandomForestClassifier()\n",
        "rf_search = GridSearchCV(estimator = rf_classifier, param_grid = hyperparameters, scoring = 'f1_micro',n_jobs = -1,cv = 3)\n",
        "rf_search.fit(np.array(pump_data),Labels)\n",
        "print(\"Best Random Forests parameeters are: \")\n",
        "print(rf_search.best_params_)\n",
        "print(\"Score for the best model is: \" + str(rf_search.best_score_))"
      ],
      "execution_count": null,
      "outputs": [
        {
          "output_type": "stream",
          "text": [
            "Best Random Forests parameeters are: \n",
            "{'max_depth': 35, 'n_estimators': 100}\n",
            "Score for the best model is: 0.8600224466891134\n"
          ],
          "name": "stdout"
        }
      ]
    },
    {
      "cell_type": "markdown",
      "metadata": {
        "id": "Bakss38TDmN0"
      },
      "source": [
        "## Hyperparameter Tuning for Decision Trees"
      ]
    },
    {
      "cell_type": "code",
      "metadata": {
        "colab": {
          "base_uri": "https://localhost:8080/"
        },
        "id": "wymMjzqDDsSx",
        "outputId": "bd4242ba-f949-408f-f2cd-1b823eb692fe"
      },
      "source": [
        "from sklearn.model_selection import GridSearchCV\n",
        "max_depth = [15,25,30,45]\n",
        "\n",
        "hyperparameters = { 'max_depth': max_depth}\n",
        "\n",
        "from sklearn.tree import DecisionTreeClassifier\n",
        "dt_classifier = DecisionTreeClassifier()\n",
        "dt_search = GridSearchCV(estimator = dt_classifier, param_grid = hyperparameters, scoring = 'f1_micro',n_jobs = -1,cv = 3)\n",
        "dt_search.fit(np.array(pump_data), np.squeeze(Labels))\n",
        "print(\"Best Decision Tree parameeters are: \")\n",
        "print(dt_search.best_params_)\n",
        "print(\"Score for the best model is: \" + str(dt_search.best_score_))\n"
      ],
      "execution_count": null,
      "outputs": [
        {
          "output_type": "stream",
          "text": [
            "Best Decision Tree parameeters are: \n",
            "{'max_depth': 15}\n",
            "Score for the best model is: 0.8220202020202021\n"
          ],
          "name": "stdout"
        }
      ]
    },
    {
      "cell_type": "markdown",
      "metadata": {
        "id": "0JpnkPt9bwrA"
      },
      "source": [
        "#Determination of the relative order of importance of variables, and perhaps a second round of feature selection."
      ]
    },
    {
      "cell_type": "markdown",
      "metadata": {
        "id": "GM1ZcBGiKbLy"
      },
      "source": [
        "## Important features for Gradient Boosting Classifier"
      ]
    },
    {
      "cell_type": "code",
      "metadata": {
        "id": "B75dKTU_b6cA",
        "colab": {
          "base_uri": "https://localhost:8080/",
          "height": 790
        },
        "outputId": "bbf28bd9-f286-4ca0-ba00-a9cb21c50762"
      },
      "source": [
        "GBC_important_features = modelxgb.feature_importances_\n",
        "for i,v in enumerate(GBC_important_features):\n",
        "\tprint('Feature: %0d, Score: %.5f' % (i,v))\n",
        "# plot feature importance\n",
        "plt.bar([x for x in range(len(GBC_important_features))], GBC_important_features)\n",
        "plt.xlabel('Feature Number')\n",
        "plt.ylabel('Importance')\n",
        "plt.show()"
      ],
      "execution_count": null,
      "outputs": [
        {
          "output_type": "stream",
          "text": [
            "Feature: 0, Score: 0.03406\n",
            "Feature: 1, Score: 0.01718\n",
            "Feature: 2, Score: 0.03216\n",
            "Feature: 3, Score: 0.01341\n",
            "Feature: 4, Score: 0.08478\n",
            "Feature: 5, Score: 0.05062\n",
            "Feature: 6, Score: 0.00222\n",
            "Feature: 7, Score: 0.01769\n",
            "Feature: 8, Score: 0.01081\n",
            "Feature: 9, Score: 0.05540\n",
            "Feature: 10, Score: 0.00891\n",
            "Feature: 11, Score: 0.02094\n",
            "Feature: 12, Score: 0.01469\n",
            "Feature: 13, Score: 0.04845\n",
            "Feature: 14, Score: 0.00070\n",
            "Feature: 15, Score: 0.00384\n",
            "Feature: 16, Score: 0.00349\n",
            "Feature: 17, Score: 0.00643\n",
            "Feature: 18, Score: 0.03994\n",
            "Feature: 19, Score: 0.01182\n",
            "Feature: 20, Score: 0.00118\n",
            "Feature: 21, Score: 0.00749\n",
            "Feature: 22, Score: 0.01090\n",
            "Feature: 23, Score: 0.00185\n",
            "Feature: 24, Score: 0.00165\n",
            "Feature: 25, Score: 0.18863\n",
            "Feature: 26, Score: 0.00957\n",
            "Feature: 27, Score: 0.00318\n",
            "Feature: 28, Score: 0.05643\n",
            "Feature: 29, Score: 0.24158\n"
          ],
          "name": "stdout"
        },
        {
          "output_type": "display_data",
          "data": {
            "image/png": "[encoded data removed]",
            "text/plain": [
              "<Figure size 432x288 with 1 Axes>"
            ]
          },
          "metadata": {
            "tags": [],
            "needs_background": "light"
          }
        }
      ]
    },
    {
      "cell_type": "markdown",
      "metadata": {
        "id": "P94DcRu_KsDp"
      },
      "source": [
        "## Important Features for Random Forest Classifier"
      ]
    },
    {
      "cell_type": "code",
      "metadata": {
        "colab": {
          "base_uri": "https://localhost:8080/",
          "height": 789
        },
        "id": "CqaxIUoEL_yn",
        "outputId": "9a535558-794b-4f99-cb6e-798ea9b560d5"
      },
      "source": [
        "rf_important_features = random_f_classifier.feature_importances_\n",
        "for i,v in enumerate(rf_important_features):\n",
        "\tprint('Feature: %0d, Score: %.5f' % (i,v))\n",
        "# plot feature importance\n",
        "plt.bar([x for x in range(len(rf_important_features))], rf_important_features)\n",
        "plt.xlabel('Feature Number')\n",
        "plt.ylabel('Importance')\n",
        "plt.show()"
      ],
      "execution_count": null,
      "outputs": [
        {
          "output_type": "stream",
          "text": [
            "Feature: 0, Score: 0.03805\n",
            "Feature: 1, Score: 0.02388\n",
            "Feature: 2, Score: 0.04407\n",
            "Feature: 3, Score: 0.02004\n",
            "Feature: 4, Score: 0.06305\n",
            "Feature: 5, Score: 0.04873\n",
            "Feature: 6, Score: 0.01344\n",
            "Feature: 7, Score: 0.02149\n",
            "Feature: 8, Score: 0.02323\n",
            "Feature: 9, Score: 0.02706\n",
            "Feature: 10, Score: 0.01600\n",
            "Feature: 11, Score: 0.02695\n",
            "Feature: 12, Score: 0.02195\n",
            "Feature: 13, Score: 0.05057\n",
            "Feature: 14, Score: 0.00345\n",
            "Feature: 15, Score: 0.01147\n",
            "Feature: 16, Score: 0.00562\n",
            "Feature: 17, Score: 0.02228\n",
            "Feature: 18, Score: 0.03741\n",
            "Feature: 19, Score: 0.01255\n",
            "Feature: 20, Score: 0.00559\n",
            "Feature: 21, Score: 0.01993\n",
            "Feature: 22, Score: 0.02279\n",
            "Feature: 23, Score: 0.00725\n",
            "Feature: 24, Score: 0.00740\n",
            "Feature: 25, Score: 0.12791\n",
            "Feature: 26, Score: 0.01415\n",
            "Feature: 27, Score: 0.00538\n",
            "Feature: 28, Score: 0.05754\n",
            "Feature: 29, Score: 0.20077\n"
          ],
          "name": "stdout"
        },
        {
          "output_type": "display_data",
          "data": {
            "image/png": "[encoded data removed]",
            "text/plain": [
              "<Figure size 432x288 with 1 Axes>"
            ]
          },
          "metadata": {
            "tags": [],
            "needs_background": "light"
          }
        }
      ]
    },
    {
      "cell_type": "markdown",
      "metadata": {
        "id": "zGgnITeRK5ab"
      },
      "source": [
        "## Important Features for Decision Tree Classifier"
      ]
    },
    {
      "cell_type": "code",
      "metadata": {
        "colab": {
          "base_uri": "https://localhost:8080/",
          "height": 789
        },
        "id": "xXTSbE38MWVX",
        "outputId": "e37eca6d-734f-446c-9ee8-dedee2510add"
      },
      "source": [
        "dt_important_features = decision_clf.feature_importances_\n",
        "feature_imp_dict = {}\n",
        "for i,v in enumerate(dt_important_features):\n",
        "\tprint('Feature: %0d, Score: %.5f' % (i,v))\n",
        "  \n",
        "   \n",
        "# plot feature importance\n",
        "plt.bar([x for x in range(len(dt_important_features))], dt_important_features)\n",
        "plt.xlabel('Feature Number')\n",
        "plt.ylabel('Importance')\n",
        "plt.show()"
      ],
      "execution_count": null,
      "outputs": [
        {
          "output_type": "stream",
          "text": [
            "Feature: 0, Score: 0.02912\n",
            "Feature: 1, Score: 0.02880\n",
            "Feature: 2, Score: 0.03891\n",
            "Feature: 3, Score: 0.01296\n",
            "Feature: 4, Score: 0.06880\n",
            "Feature: 5, Score: 0.05955\n",
            "Feature: 6, Score: 0.00463\n",
            "Feature: 7, Score: 0.01751\n",
            "Feature: 8, Score: 0.00993\n",
            "Feature: 9, Score: 0.04910\n",
            "Feature: 10, Score: 0.01522\n",
            "Feature: 11, Score: 0.02989\n",
            "Feature: 12, Score: 0.01927\n",
            "Feature: 13, Score: 0.04812\n",
            "Feature: 14, Score: 0.00253\n",
            "Feature: 15, Score: 0.00490\n",
            "Feature: 16, Score: 0.00887\n",
            "Feature: 17, Score: 0.00634\n",
            "Feature: 18, Score: 0.03928\n",
            "Feature: 19, Score: 0.00705\n",
            "Feature: 20, Score: 0.00759\n",
            "Feature: 21, Score: 0.01729\n",
            "Feature: 22, Score: 0.01866\n",
            "Feature: 23, Score: 0.00371\n",
            "Feature: 24, Score: 0.00267\n",
            "Feature: 25, Score: 0.13088\n",
            "Feature: 26, Score: 0.01258\n",
            "Feature: 27, Score: 0.00542\n",
            "Feature: 28, Score: 0.04971\n",
            "Feature: 29, Score: 0.25069\n"
          ],
          "name": "stdout"
        },
        {
          "output_type": "display_data",
          "data": {
            "image/png": "[encoded data removed]",
            "text/plain": [
              "<Figure size 432x288 with 1 Axes>"
            ]
          },
          "metadata": {
            "tags": [],
            "needs_background": "light"
          }
        }
      ]
    },
    {
      "cell_type": "code",
      "metadata": {
        "colab": {
          "base_uri": "https://localhost:8080/"
        },
        "id": "pob7GGX6rXWu",
        "outputId": "c2eb95ce-abe3-4975-a655-fd45c0f7b16f"
      },
      "source": [
        "# In all the three models feature 25 and 29 are having higher importance\n",
        "most_important_features = [pump_data.columns[25], pump_data.columns[29]]\n",
        "most_important_features"
      ],
      "execution_count": null,
      "outputs": [
        {
          "output_type": "execute_result",
          "data": {
            "text/plain": [
              "['quantity_group', 'Age_of_pump']"
            ]
          },
          "metadata": {
            "tags": []
          },
          "execution_count": 40
        }
      ]
    },
    {
      "cell_type": "markdown",
      "metadata": {
        "id": "UBL85xLBnUSn"
      },
      "source": [
        "Observations:-\n",
        "\n",
        "So the two most important features are 'Age_of_pump' and 'quality_group'"
      ]
    },
    {
      "cell_type": "markdown",
      "metadata": {
        "id": "auILUXGYb7jo"
      },
      "source": [
        "#Visualization of  decision boundaries by either taking the two most important variables into account, or by reducing the input dimensions to two using tools such as t-sne"
      ]
    },
    {
      "cell_type": "markdown",
      "metadata": {
        "id": "F7msHQ33bSOb"
      },
      "source": [
        "Applying TSNE to reduce the input dimensions to two which can then by used for visualization of decision boundary"
      ]
    },
    {
      "cell_type": "code",
      "metadata": {
        "id": "-5tXUkg4eg5s"
      },
      "source": [
        "from sklearn.manifold import TSNE\n",
        "X_embedded = TSNE(n_components=2,learning_rate = 600).fit_transform(pump_data)"
      ],
      "execution_count": null,
      "outputs": []
    },
    {
      "cell_type": "code",
      "metadata": {
        "id": "zwygBKIZcBNV"
      },
      "source": [
        "X_embedded\n",
        "np.save('Embeddings', X_embedded)"
      ],
      "execution_count": null,
      "outputs": []
    },
    {
      "cell_type": "code",
      "metadata": {
        "colab": {
          "base_uri": "https://localhost:8080/",
          "height": 419
        },
        "id": "CbcT4gkKcbXI",
        "outputId": "626c7d1a-d655-4935-af8b-f5fffb20e6b8"
      },
      "source": [
        "Important_pump_data = pd.DataFrame(X_embedded)\n",
        "Important_pump_data"
      ],
      "execution_count": null,
      "outputs": [
        {
          "output_type": "execute_result",
          "data": {
            "text/html": [
              "<div>\n",
              "<style scoped>\n",
              "    .dataframe tbody tr th:only-of-type {\n",
              "        vertical-align: middle;\n",
              "    }\n",
              "\n",
              "    .dataframe tbody tr th {\n",
              "        vertical-align: top;\n",
              "    }\n",
              "\n",
              "    .dataframe thead th {\n",
              "        text-align: right;\n",
              "    }\n",
              "</style>\n",
              "<table border=\"1\" class=\"dataframe\">\n",
              "  <thead>\n",
              "    <tr style=\"text-align: right;\">\n",
              "      <th></th>\n",
              "      <th>0</th>\n",
              "      <th>1</th>\n",
              "    </tr>\n",
              "  </thead>\n",
              "  <tbody>\n",
              "    <tr>\n",
              "      <th>0</th>\n",
              "      <td>-40.451462</td>\n",
              "      <td>15.067572</td>\n",
              "    </tr>\n",
              "    <tr>\n",
              "      <th>1</th>\n",
              "      <td>30.141411</td>\n",
              "      <td>92.674332</td>\n",
              "    </tr>\n",
              "    <tr>\n",
              "      <th>2</th>\n",
              "      <td>-86.574074</td>\n",
              "      <td>-15.255998</td>\n",
              "    </tr>\n",
              "    <tr>\n",
              "      <th>3</th>\n",
              "      <td>63.272999</td>\n",
              "      <td>30.753569</td>\n",
              "    </tr>\n",
              "    <tr>\n",
              "      <th>4</th>\n",
              "      <td>43.603752</td>\n",
              "      <td>-45.968006</td>\n",
              "    </tr>\n",
              "    <tr>\n",
              "      <th>...</th>\n",
              "      <td>...</td>\n",
              "      <td>...</td>\n",
              "    </tr>\n",
              "    <tr>\n",
              "      <th>44545</th>\n",
              "      <td>50.845642</td>\n",
              "      <td>14.278801</td>\n",
              "    </tr>\n",
              "    <tr>\n",
              "      <th>44546</th>\n",
              "      <td>51.287804</td>\n",
              "      <td>88.453125</td>\n",
              "    </tr>\n",
              "    <tr>\n",
              "      <th>44547</th>\n",
              "      <td>-87.410728</td>\n",
              "      <td>2.878931</td>\n",
              "    </tr>\n",
              "    <tr>\n",
              "      <th>44548</th>\n",
              "      <td>-4.784351</td>\n",
              "      <td>-10.548357</td>\n",
              "    </tr>\n",
              "    <tr>\n",
              "      <th>44549</th>\n",
              "      <td>30.573769</td>\n",
              "      <td>61.592392</td>\n",
              "    </tr>\n",
              "  </tbody>\n",
              "</table>\n",
              "<p>44550 rows × 2 columns</p>\n",
              "</div>"
            ],
            "text/plain": [
              "               0          1\n",
              "0     -40.451462  15.067572\n",
              "1      30.141411  92.674332\n",
              "2     -86.574074 -15.255998\n",
              "3      63.272999  30.753569\n",
              "4      43.603752 -45.968006\n",
              "...          ...        ...\n",
              "44545  50.845642  14.278801\n",
              "44546  51.287804  88.453125\n",
              "44547 -87.410728   2.878931\n",
              "44548  -4.784351 -10.548357\n",
              "44549  30.573769  61.592392\n",
              "\n",
              "[44550 rows x 2 columns]"
            ]
          },
          "metadata": {
            "tags": []
          },
          "execution_count": 611
        }
      ]
    },
    {
      "cell_type": "code",
      "metadata": {
        "colab": {
          "base_uri": "https://localhost:8080/",
          "height": 544
        },
        "id": "pf01IS9m2IFO",
        "outputId": "788ce2cc-cc6e-455a-cf8e-1b025836e605"
      },
      "source": [
        "Important_pump_data['labels'] = Labels\n",
        "\n",
        "#Visualizing the decision boundary using these two features\n",
        "sns.scatterplot( x= 0,y= 1, hue='labels', data=Important_pump_data)\n",
        "plt.show()\n",
        "del Important_pump_data['labels']\n",
        "Important_pump_data = Important_pump_data.to_numpy()\n",
        "\n",
        "\n",
        "model = DecisionTreeClassifier(max_depth = 29)\n",
        "model.fit(Important_pump_data,Labels)\n",
        "y_pred = model.predict(X_embedded)\n",
        "print(accuracy_score(Labels,y_pred))\n",
        "min1, max1 = [X_embedded[:, 0].min()-1, X_embedded[:, 0].max()+1]\n",
        "min2, max2 = [X_embedded[:, 1].min()-1, X_embedded[:, 1].max()+1]\n",
        "\n",
        "x1grid = np.arange(min1, max1, 0.1)\n",
        "x2grid = np.arange(min2, max2, 0.1)\n",
        "\n",
        "# create all of the lines and rows of the grid\n",
        "xx, yy = np.meshgrid(x1grid, x2grid)\n",
        "# flatten each grid to a vector\n",
        "r1, r2 = xx.flatten(), yy.flatten()\n",
        "r1, r2 = r1.reshape((len(r1), 1)), r2.reshape((len(r2), 1))\n",
        "# horizontal stack vectors to create x1,x2 input for the model\n",
        "grid = np.hstack((r1,r2))\n",
        "y_pred = model.predict(grid)\n",
        "zz = y_pred.reshape(xx.shape)\n",
        "# plot the grid of x, y and z values as a surface\n",
        "plt.contourf(xx, yy, zz, cmap='RdBu')\n",
        "# create scatter plot for samples from each class\n",
        "for class_value in range(3):\n",
        "    # get row indexes for samples with this class\n",
        "    row_ix = np.where(Labels == class_value)\n",
        "    # create scatter of these samples\n",
        "    plt.scatter(Important_pump_data[row_ix, 0], Important_pump_data[row_ix, 1])\n",
        "    "
      ],
      "execution_count": null,
      "outputs": [
        {
          "output_type": "display_data",
          "data": {
            "image/png": "[encoded data removed]",
            "text/plain": [
              "<Figure size 432x288 with 1 Axes>"
            ]
          },
          "metadata": {
            "tags": [],
            "needs_background": "light"
          }
        },
        {
          "output_type": "stream",
          "text": [
            "0.946936026936027\n"
          ],
          "name": "stdout"
        },
        {
          "output_type": "display_data",
          "data": {
            "image/png": "[encoded data removed]",
            "text/plain": [
              "<Figure size 432x288 with 1 Axes>"
            ]
          },
          "metadata": {
            "tags": [],
            "needs_background": "light"
          }
        }
      ]
    },
    {
      "cell_type": "markdown",
      "metadata": {
        "id": "w32j5IUiehk8"
      },
      "source": [
        "#Submit the final labels as a CSV file with a single column and no header"
      ]
    },
    {
      "cell_type": "markdown",
      "metadata": {
        "id": "8UKatVO2hKjQ"
      },
      "source": [
        "Using the model and model parameters with best score obtained after gridsearch & cross validation"
      ]
    },
    {
      "cell_type": "code",
      "metadata": {
        "id": "wddlnGRYeo0r"
      },
      "source": [
        "from sklearn.ensemble import RandomForestClassifier\n",
        "model = RandomForestClassifier(max_depth = 35, n_estimators = 100)\n",
        "model.fit(pump_data,Labels)\n",
        "del test_pump_data['Unnamed: 0']\n",
        "test_predictions = model.predict(test_pump_data)"
      ],
      "execution_count": null,
      "outputs": []
    },
    {
      "cell_type": "code",
      "metadata": {
        "id": "yxkeF3mbeyH2"
      },
      "source": [
        "#Write in a CSV file\n",
        "test_prediction_dataframe = pd.DataFrame(test_predictions)\n",
        "test_prediction_dataframe.to_csv('Final_test_predictions.csv')"
      ],
      "execution_count": null,
      "outputs": []
    },
    {
      "cell_type": "code",
      "metadata": {
        "colab": {
          "base_uri": "https://localhost:8080/"
        },
        "id": "pjgbw1d0uoPr",
        "outputId": "6206e40a-0ca0-4c9a-c1a8-5019d8af20cb"
      },
      "source": [
        "len(test_prediction_dataframe)"
      ],
      "execution_count": null,
      "outputs": [
        {
          "output_type": "execute_result",
          "data": {
            "text/plain": [
              "14850"
            ]
          },
          "metadata": {
            "tags": []
          },
          "execution_count": 75
        }
      ]
    },
    {
      "cell_type": "code",
      "metadata": {
        "id": "VezbsjM72Nl4"
      },
      "source": [
        ""
      ],
      "execution_count": null,
      "outputs": []
    }
  ]
}